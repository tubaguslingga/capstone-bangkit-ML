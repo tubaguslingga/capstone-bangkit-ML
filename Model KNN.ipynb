{
  "nbformat": 4,
  "nbformat_minor": 0,
  "metadata": {
    "colab": {
      "provenance": []
    },
    "kernelspec": {
      "name": "python3",
      "display_name": "Python 3"
    },
    "language_info": {
      "name": "python"
    }
  },
  "cells": [
    {
      "cell_type": "code",
      "execution_count": 14,
      "metadata": {
        "id": "PtSn4jLDdfTt"
      },
      "outputs": [],
      "source": [
        "import pandas as pd\n",
        "import numpy as np\n",
        "import seaborn as sns\n",
        "import matplotlib.pyplot as plt\n",
        "from joblib import dump, load\n",
        "from sklearn.neighbors import NearestNeighbors\n",
        "import tensorflow as tf\n",
        "from tensorflow.keras.models import Sequential\n",
        "from tensorflow.keras.layers import Dense\n"
      ]
    },
    {
      "cell_type": "code",
      "source": [
        "from google.colab import files\n",
        "uploaded = files.upload()\n"
      ],
      "metadata": {
        "colab": {
          "base_uri": "https://localhost:8080/",
          "height": 73
        },
        "id": "f4XqQrRCzxI2",
        "outputId": "59791f72-7ba3-4fc4-ca26-9b40f798bb91"
      },
      "execution_count": 13,
      "outputs": [
        {
          "output_type": "display_data",
          "data": {
            "text/plain": [
              "<IPython.core.display.HTML object>"
            ],
            "text/html": [
              "\n",
              "     <input type=\"file\" id=\"files-2b233a40-32d0-4cfc-a61a-2dae29ef61a1\" name=\"files[]\" multiple disabled\n",
              "        style=\"border:none\" />\n",
              "     <output id=\"result-2b233a40-32d0-4cfc-a61a-2dae29ef61a1\">\n",
              "      Upload widget is only available when the cell has been executed in the\n",
              "      current browser session. Please rerun this cell to enable.\n",
              "      </output>\n",
              "      <script>// Copyright 2017 Google LLC\n",
              "//\n",
              "// Licensed under the Apache License, Version 2.0 (the \"License\");\n",
              "// you may not use this file except in compliance with the License.\n",
              "// You may obtain a copy of the License at\n",
              "//\n",
              "//      http://www.apache.org/licenses/LICENSE-2.0\n",
              "//\n",
              "// Unless required by applicable law or agreed to in writing, software\n",
              "// distributed under the License is distributed on an \"AS IS\" BASIS,\n",
              "// WITHOUT WARRANTIES OR CONDITIONS OF ANY KIND, either express or implied.\n",
              "// See the License for the specific language governing permissions and\n",
              "// limitations under the License.\n",
              "\n",
              "/**\n",
              " * @fileoverview Helpers for google.colab Python module.\n",
              " */\n",
              "(function(scope) {\n",
              "function span(text, styleAttributes = {}) {\n",
              "  const element = document.createElement('span');\n",
              "  element.textContent = text;\n",
              "  for (const key of Object.keys(styleAttributes)) {\n",
              "    element.style[key] = styleAttributes[key];\n",
              "  }\n",
              "  return element;\n",
              "}\n",
              "\n",
              "// Max number of bytes which will be uploaded at a time.\n",
              "const MAX_PAYLOAD_SIZE = 100 * 1024;\n",
              "\n",
              "function _uploadFiles(inputId, outputId) {\n",
              "  const steps = uploadFilesStep(inputId, outputId);\n",
              "  const outputElement = document.getElementById(outputId);\n",
              "  // Cache steps on the outputElement to make it available for the next call\n",
              "  // to uploadFilesContinue from Python.\n",
              "  outputElement.steps = steps;\n",
              "\n",
              "  return _uploadFilesContinue(outputId);\n",
              "}\n",
              "\n",
              "// This is roughly an async generator (not supported in the browser yet),\n",
              "// where there are multiple asynchronous steps and the Python side is going\n",
              "// to poll for completion of each step.\n",
              "// This uses a Promise to block the python side on completion of each step,\n",
              "// then passes the result of the previous step as the input to the next step.\n",
              "function _uploadFilesContinue(outputId) {\n",
              "  const outputElement = document.getElementById(outputId);\n",
              "  const steps = outputElement.steps;\n",
              "\n",
              "  const next = steps.next(outputElement.lastPromiseValue);\n",
              "  return Promise.resolve(next.value.promise).then((value) => {\n",
              "    // Cache the last promise value to make it available to the next\n",
              "    // step of the generator.\n",
              "    outputElement.lastPromiseValue = value;\n",
              "    return next.value.response;\n",
              "  });\n",
              "}\n",
              "\n",
              "/**\n",
              " * Generator function which is called between each async step of the upload\n",
              " * process.\n",
              " * @param {string} inputId Element ID of the input file picker element.\n",
              " * @param {string} outputId Element ID of the output display.\n",
              " * @return {!Iterable<!Object>} Iterable of next steps.\n",
              " */\n",
              "function* uploadFilesStep(inputId, outputId) {\n",
              "  const inputElement = document.getElementById(inputId);\n",
              "  inputElement.disabled = false;\n",
              "\n",
              "  const outputElement = document.getElementById(outputId);\n",
              "  outputElement.innerHTML = '';\n",
              "\n",
              "  const pickedPromise = new Promise((resolve) => {\n",
              "    inputElement.addEventListener('change', (e) => {\n",
              "      resolve(e.target.files);\n",
              "    });\n",
              "  });\n",
              "\n",
              "  const cancel = document.createElement('button');\n",
              "  inputElement.parentElement.appendChild(cancel);\n",
              "  cancel.textContent = 'Cancel upload';\n",
              "  const cancelPromise = new Promise((resolve) => {\n",
              "    cancel.onclick = () => {\n",
              "      resolve(null);\n",
              "    };\n",
              "  });\n",
              "\n",
              "  // Wait for the user to pick the files.\n",
              "  const files = yield {\n",
              "    promise: Promise.race([pickedPromise, cancelPromise]),\n",
              "    response: {\n",
              "      action: 'starting',\n",
              "    }\n",
              "  };\n",
              "\n",
              "  cancel.remove();\n",
              "\n",
              "  // Disable the input element since further picks are not allowed.\n",
              "  inputElement.disabled = true;\n",
              "\n",
              "  if (!files) {\n",
              "    return {\n",
              "      response: {\n",
              "        action: 'complete',\n",
              "      }\n",
              "    };\n",
              "  }\n",
              "\n",
              "  for (const file of files) {\n",
              "    const li = document.createElement('li');\n",
              "    li.append(span(file.name, {fontWeight: 'bold'}));\n",
              "    li.append(span(\n",
              "        `(${file.type || 'n/a'}) - ${file.size} bytes, ` +\n",
              "        `last modified: ${\n",
              "            file.lastModifiedDate ? file.lastModifiedDate.toLocaleDateString() :\n",
              "                                    'n/a'} - `));\n",
              "    const percent = span('0% done');\n",
              "    li.appendChild(percent);\n",
              "\n",
              "    outputElement.appendChild(li);\n",
              "\n",
              "    const fileDataPromise = new Promise((resolve) => {\n",
              "      const reader = new FileReader();\n",
              "      reader.onload = (e) => {\n",
              "        resolve(e.target.result);\n",
              "      };\n",
              "      reader.readAsArrayBuffer(file);\n",
              "    });\n",
              "    // Wait for the data to be ready.\n",
              "    let fileData = yield {\n",
              "      promise: fileDataPromise,\n",
              "      response: {\n",
              "        action: 'continue',\n",
              "      }\n",
              "    };\n",
              "\n",
              "    // Use a chunked sending to avoid message size limits. See b/62115660.\n",
              "    let position = 0;\n",
              "    do {\n",
              "      const length = Math.min(fileData.byteLength - position, MAX_PAYLOAD_SIZE);\n",
              "      const chunk = new Uint8Array(fileData, position, length);\n",
              "      position += length;\n",
              "\n",
              "      const base64 = btoa(String.fromCharCode.apply(null, chunk));\n",
              "      yield {\n",
              "        response: {\n",
              "          action: 'append',\n",
              "          file: file.name,\n",
              "          data: base64,\n",
              "        },\n",
              "      };\n",
              "\n",
              "      let percentDone = fileData.byteLength === 0 ?\n",
              "          100 :\n",
              "          Math.round((position / fileData.byteLength) * 100);\n",
              "      percent.textContent = `${percentDone}% done`;\n",
              "\n",
              "    } while (position < fileData.byteLength);\n",
              "  }\n",
              "\n",
              "  // All done.\n",
              "  yield {\n",
              "    response: {\n",
              "      action: 'complete',\n",
              "    }\n",
              "  };\n",
              "}\n",
              "\n",
              "scope.google = scope.google || {};\n",
              "scope.google.colab = scope.google.colab || {};\n",
              "scope.google.colab._files = {\n",
              "  _uploadFiles,\n",
              "  _uploadFilesContinue,\n",
              "};\n",
              "})(self);\n",
              "</script> "
            ]
          },
          "metadata": {}
        },
        {
          "output_type": "stream",
          "name": "stdout",
          "text": [
            "Saving restaurant.csv to restaurant (1).csv\n"
          ]
        }
      ]
    },
    {
      "cell_type": "code",
      "source": [
        "restaurant = pd.read_csv('restaurant.csv')\n",
        "provinsi = pd.read_csv('provinsi.csv')\n",
        "makanan_khas = pd.read_csv('makanan_khas.csv')"
      ],
      "metadata": {
        "id": "4useSCVUzkEe"
      },
      "execution_count": 12,
      "outputs": []
    },
    {
      "cell_type": "code",
      "source": [
        "restaurant_provinsi = pd.merge(restaurant, provinsi, on='id_provinsi')\n",
        "data_gabungan = pd.merge(restaurant_provinsi, makanan_khas, on='id_makanan')\n",
        "data_gabungan = data_gabungan[['id_restaurant', 'nama_tempat', 'alamat', 'id_provinsi', 'nama_provinsi', 'id_makanan', 'makanan_khas', 'deskripsi', 'long', 'lat']]"
      ],
      "metadata": {
        "id": "uo3imGL10MzS"
      },
      "execution_count": 11,
      "outputs": []
    },
    {
      "cell_type": "code",
      "source": [
        "class_column = 'id_provinsi'\n",
        "plt.figure(figsize=(10, 6))\n",
        "sns.countplot(data=data_gabungan, x=class_column, order=data_gabungan[class_column].value_counts().index)\n",
        "plt.title('Distribusi Jumlah Sampel per Kelas')\n",
        "plt.xlabel('Kelas')\n",
        "plt.ylabel('Jumlah Sampel')\n",
        "plt.xticks(rotation=90)\n",
        "plt.show()"
      ],
      "metadata": {
        "colab": {
          "base_uri": "https://localhost:8080/",
          "height": 568
        },
        "id": "qTWyX98t4-fh",
        "outputId": "55d9a988-b3ed-48a1-f171-27da500e68a9"
      },
      "execution_count": 15,
      "outputs": [
        {
          "output_type": "display_data",
          "data": {
            "text/plain": [
              "<Figure size 1000x600 with 1 Axes>"
            ],
            "image/png": "[encoded data removed]"
          },
          "metadata": {}
        }
      ]
    },
    {
      "cell_type": "code",
      "source": [
        "samples_per_class = data_gabungan[class_column].value_counts()\n",
        "print(f\"Jumlah sampel per kelas:\\n{samples_per_class}\")"
      ],
      "metadata": {
        "colab": {
          "base_uri": "https://localhost:8080/"
        },
        "id": "uae5Ics483VN",
        "outputId": "722f907f-b260-4408-af7d-05535aa2bb66"
      },
      "execution_count": 16,
      "outputs": [
        {
          "output_type": "stream",
          "name": "stdout",
          "text": [
            "Jumlah sampel per kelas:\n",
            "id_provinsi\n",
            "36    39\n",
            "35    36\n",
            "31    35\n",
            "32    35\n",
            "33    35\n",
            "34    35\n",
            "Name: count, dtype: int64\n"
          ]
        }
      ]
    },
    {
      "cell_type": "code",
      "source": [
        "samples_per_class = data_gabungan[class_column].value_counts()\n",
        "print(f\"Statistik Jumlah Sampel per Kelas:\\n{samples_per_class.describe()}\")\n",
        "print(f\"Jumlah sampel minimal dalam satu kelas: {samples_per_class.min()}\")\n",
        "print(f\"Jumlah sampel maksimal dalam satu kelas: {samples_per_class.max()}\")"
      ],
      "metadata": {
        "colab": {
          "base_uri": "https://localhost:8080/"
        },
        "id": "Q5ucSshq-D7Q",
        "outputId": "1f725104-d0d0-424b-c470-37dd4f0d4e0f"
      },
      "execution_count": 17,
      "outputs": [
        {
          "output_type": "stream",
          "name": "stdout",
          "text": [
            "Statistik Jumlah Sampel per Kelas:\n",
            "count     6.000000\n",
            "mean     35.833333\n",
            "std       1.602082\n",
            "min      35.000000\n",
            "25%      35.000000\n",
            "50%      35.000000\n",
            "75%      35.750000\n",
            "max      39.000000\n",
            "Name: count, dtype: float64\n",
            "Jumlah sampel minimal dalam satu kelas: 35\n",
            "Jumlah sampel maksimal dalam satu kelas: 39\n"
          ]
        }
      ]
    },
    {
      "cell_type": "code",
      "source": [
        "data_gabungan.isnull().sum().sort_values(ascending = False)"
      ],
      "metadata": {
        "id": "nY2EEj0q2GfM",
        "colab": {
          "base_uri": "https://localhost:8080/"
        },
        "outputId": "582d2577-77e5-41fb-e16e-e65e7e1aaffc"
      },
      "execution_count": 18,
      "outputs": [
        {
          "output_type": "execute_result",
          "data": {
            "text/plain": [
              "id_restaurant    0\n",
              "nama_tempat      0\n",
              "alamat           0\n",
              "id_provinsi      0\n",
              "nama_provinsi    0\n",
              "id_makanan       0\n",
              "makanan_khas     0\n",
              "deskripsi        0\n",
              "long             0\n",
              "lat              0\n",
              "dtype: int64"
            ]
          },
          "metadata": {},
          "execution_count": 18
        }
      ]
    },
    {
      "cell_type": "code",
      "source": [
        "data_gabungan.info()"
      ],
      "metadata": {
        "id": "oTGA0MRI34ID",
        "colab": {
          "base_uri": "https://localhost:8080/"
        },
        "outputId": "96e44835-1713-4523-fd9f-4c4ad1985e76"
      },
      "execution_count": 19,
      "outputs": [
        {
          "output_type": "stream",
          "name": "stdout",
          "text": [
            "<class 'pandas.core.frame.DataFrame'>\n",
            "RangeIndex: 215 entries, 0 to 214\n",
            "Data columns (total 10 columns):\n",
            " #   Column         Non-Null Count  Dtype  \n",
            "---  ------         --------------  -----  \n",
            " 0   id_restaurant  215 non-null    int64  \n",
            " 1   nama_tempat    215 non-null    object \n",
            " 2   alamat         215 non-null    object \n",
            " 3   id_provinsi    215 non-null    int64  \n",
            " 4   nama_provinsi  215 non-null    object \n",
            " 5   id_makanan     215 non-null    int64  \n",
            " 6   makanan_khas   215 non-null    object \n",
            " 7   deskripsi      215 non-null    object \n",
            " 8   long           215 non-null    float64\n",
            " 9   lat            215 non-null    float64\n",
            "dtypes: float64(2), int64(3), object(5)\n",
            "memory usage: 16.9+ KB\n"
          ]
        }
      ]
    },
    {
      "cell_type": "code",
      "source": [
        "data_gabungan.duplicated().sum()"
      ],
      "metadata": {
        "id": "a-2sKDha3__F",
        "colab": {
          "base_uri": "https://localhost:8080/"
        },
        "outputId": "7018ad0e-55a6-468a-900d-9102d73dd69d"
      },
      "execution_count": 20,
      "outputs": [
        {
          "output_type": "execute_result",
          "data": {
            "text/plain": [
              "0"
            ]
          },
          "metadata": {},
          "execution_count": 20
        }
      ]
    },
    {
      "cell_type": "code",
      "source": [
        "coords = restaurant[['long', 'lat']].values"
      ],
      "metadata": {
        "id": "4fyjhMfj8PCI"
      },
      "execution_count": 21,
      "outputs": []
    },
    {
      "cell_type": "code",
      "source": [
        "# Define KNN Model\n",
        "knn = NearestNeighbors(n_neighbors= 5)\n",
        "knn.fit(coords)\n",
        "\n",
        "def find_nearest_knn(lat, lon):\n",
        "    distances, indices = knn.kneighbors([[lon, lat]])\n",
        "    return indices[0], distances[0]"
      ],
      "metadata": {
        "id": "Poieswv9DAt_"
      },
      "execution_count": 22,
      "outputs": []
    },
    {
      "cell_type": "code",
      "source": [
        "# Save model KNN\n",
        "dump(knn, 'knn_model.joblib')\n",
        "\n",
        "# load model KNN\n",
        "knn_loaded = load('knn_model.joblib')"
      ],
      "metadata": {
        "id": "kT_vDD--a25i"
      },
      "execution_count": 23,
      "outputs": []
    },
    {
      "cell_type": "code",
      "source": [
        "# TensorFlow Model\n",
        "model = Sequential([\n",
        "    Dense(64, activation='relu', input_shape=(2,)),\n",
        "    Dense(64, activation='relu'),\n",
        "    Dense(2)\n",
        "])\n",
        "\n",
        "model.compile(optimizer='adam', loss='mse')\n",
        "\n",
        "X = coords\n",
        "y = coords\n",
        "\n",
        "model.fit(X, y, epochs=100, verbose=0)\n",
        "\n",
        "def predict_with_tf(lon, lat):\n",
        "    input_coord = np.array([[lon, lat]])\n",
        "    pred_coord = model.predict(input_coord)\n",
        "    return pred_coord"
      ],
      "metadata": {
        "id": "t5vn3CMb2Tej"
      },
      "execution_count": 26,
      "outputs": []
    },
    {
      "cell_type": "code",
      "source": [
        "def get_combined_nearest_location(lat, lon):\n",
        "    indices, distances = find_nearest_knn(lat, lon)\n",
        "    nearest_candidates = coords[indices]\n",
        "\n",
        "    refined_coord = predict_with_tf(lon, lat)\n",
        "\n",
        "    refined_distances = np.sqrt((nearest_candidates[:, 0] - refined_coord[0][0]) ** 2 + (nearest_candidates[:, 1] - refined_coord[0][1]) ** 2)\n",
        "    nearest_index = np.argmin(refined_distances)\n",
        "\n",
        "    return restaurant.iloc[indices[nearest_index]]"
      ],
      "metadata": {
        "id": "ATOf2jLXEnL4"
      },
      "execution_count": 27,
      "outputs": []
    },
    {
      "cell_type": "code",
      "source": [
        "# Save the TensorFlow model\n",
        "model.save('tensorflow_model.h5')\n",
        "\n",
        "# Load the TensorFlow model\n",
        "from tensorflow.keras.models import load_model\n",
        "model_loaded = load_model('tensorflow_model.h5')\n"
      ],
      "metadata": {
        "colab": {
          "base_uri": "https://localhost:8080/"
        },
        "id": "rkFLWIg-Z1Qs",
        "outputId": "27c8e4d4-df7b-4c75-9d81-1132d4ee1797"
      },
      "execution_count": 28,
      "outputs": [
        {
          "output_type": "stream",
          "name": "stderr",
          "text": [
            "/usr/local/lib/python3.10/dist-packages/keras/src/engine/training.py:3103: UserWarning: You are saving your model as an HDF5 file via `model.save()`. This file format is considered legacy. We recommend using instead the native Keras format, e.g. `model.save('my_model.keras')`.\n",
            "  saving_api.save_model(\n"
          ]
        }
      ]
    },
    {
      "cell_type": "code",
      "source": [
        "from sklearn.metrics import mean_squared_error\n",
        "\n",
        "# Evaluasi KNN menggunakan jarak rata-rata dari prediksi ke lokasi asli\n",
        "def evaluate_knn(knn_model, X_test, y_test):\n",
        "    distances, indices = knn_model.kneighbors(X_test)\n",
        "    y_pred = coords[indices[:, 0]]\n",
        "    mse = mean_squared_error(y_test, y_pred)\n",
        "    return mse\n",
        "\n",
        "X_test = np.array([[106.149564, -6.143376]])\n",
        "y_test = np.array([[106.149564, -6.143376]])\n",
        "knn_mse = evaluate_knn(knn_loaded, X_test, y_test)\n",
        "print(f\"KNN Mean Squared Error: {knn_mse}\")\n"
      ],
      "metadata": {
        "colab": {
          "base_uri": "https://localhost:8080/"
        },
        "id": "lkoC4E9GbDaq",
        "outputId": "e0b8deb7-bd02-4ad0-89f0-c00d44e7d604"
      },
      "execution_count": 39,
      "outputs": [
        {
          "output_type": "stream",
          "name": "stdout",
          "text": [
            "KNN Mean Squared Error: 0.0\n"
          ]
        }
      ]
    },
    {
      "cell_type": "code",
      "source": [
        "# Evaluasi TensorFlow model\n",
        "loss = model_loaded.evaluate(X_test, y_test)\n",
        "print(f\"TensorFlow Model Loss: {loss}\")\n"
      ],
      "metadata": {
        "colab": {
          "base_uri": "https://localhost:8080/"
        },
        "id": "vofbUEtMaENj",
        "outputId": "7cc6326f-3cd3-43a2-fae6-e5fcda003c6d"
      },
      "execution_count": 40,
      "outputs": [
        {
          "output_type": "stream",
          "name": "stdout",
          "text": [
            "1/1 [==============================] - 0s 30ms/step - loss: 0.1082\n",
            "TensorFlow Model Loss: 0.10820603370666504\n"
          ]
        }
      ]
    },
    {
      "cell_type": "code",
      "source": [
        "def get_combined_nearest_location(lat, lon):\n",
        "    indices, distances = find_nearest_knn(lat, lon)\n",
        "    nearest_candidates = coords[indices]\n",
        "\n",
        "    refined_coord = predict_with_tf(lon, lat)\n",
        "\n",
        "    refined_distances = np.sqrt((nearest_candidates[:, 0] - refined_coord[0][0]) ** 2 + (nearest_candidates[:, 1] - refined_coord[0][1]) ** 2)\n",
        "    nearest_index = np.argmin(refined_distances)\n",
        "\n",
        "    return restaurant.iloc[indices[nearest_index]]\n",
        "\n",
        "user_lat = -6.143376\n",
        "user_lon = 106.149564\n",
        "\n",
        "nearest_location = get_combined_nearest_location(user_lat, user_lon)\n",
        "print(\"Nearest location using combined KNN and TensorFlow:\")\n",
        "print(nearest_location)\n"
      ],
      "metadata": {
        "colab": {
          "base_uri": "https://localhost:8080/"
        },
        "id": "oAL0NkB1iOj7",
        "outputId": "f31bc0d2-1ab6-4528-dfa3-7b75d7bbcd04"
      },
      "execution_count": 41,
      "outputs": [
        {
          "output_type": "stream",
          "name": "stdout",
          "text": [
            "1/1 [==============================] - 0s 63ms/step\n",
            "Nearest location using combined KNN and TensorFlow:\n",
            "id_restaurant                                                    1\n",
            "id_reting                                                        1\n",
            "id_makanan                                                       1\n",
            "id_provinsi                                                     36\n",
            "id_kabupaten                                                  3673\n",
            "nama_tempat                         Sate Bandeng Ibu Amenah Serang\n",
            "alamat           Jl. Sayabulu km 1, Lingk No.11, RT.2/RW.1, Dal...\n",
            "long                                                    106.149564\n",
            "lat                                                      -6.143376\n",
            "Name: 0, dtype: object\n"
          ]
        }
      ]
    },
    {
      "cell_type": "code",
      "source": [
        "import tensorflow as tf\n",
        "\n",
        "# Load TensorFlow model\n",
        "model = tf.keras.models.load_model('tensorflow_model.h5')\n",
        "\n",
        "# Convert model ke format TensorFlow Lite\n",
        "converter = tf.lite.TFLiteConverter.from_keras_model(model)\n",
        "tflite_model = converter.convert()\n",
        "\n",
        "# Save TensorFlow Lite model\n",
        "with open('model.tflite', 'wb') as f:\n",
        "    f.write(tflite_model)"
      ],
      "metadata": {
        "id": "5uwCb-fMPKk3"
      },
      "execution_count": 42,
      "outputs": []
    }
  ]
}