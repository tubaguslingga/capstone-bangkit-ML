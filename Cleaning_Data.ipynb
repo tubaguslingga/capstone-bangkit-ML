{
  "cells": [
    {
      "cell_type": "markdown",
      "source": [
        "# **Import Libraries**"
      ],
      "metadata": {
        "id": "QBIxaYFtvufF"
      }
    },
    {
      "cell_type": "code",
      "source": [
        "import pandas as pd\n",
        "import numpy as np"
      ],
      "metadata": {
        "id": "_oghe8kTgmw5"
      },
      "execution_count": 1,
      "outputs": []
    },
    {
      "cell_type": "markdown",
      "source": [
        "# **Load Data**"
      ],
      "metadata": {
        "id": "TxPX54jRwsbm"
      }
    },
    {
      "cell_type": "code",
      "source": [
        "provinsi_df = pd.read_csv('provinsi.csv')\n",
        "kabupaten_df = pd.read_csv('kabupaten.csv')\n",
        "makanan_khas_df = pd.read_csv('makanan_khas.csv')\n",
        "image_link_df = pd.read_csv('image_link.csv')\n",
        "restaurant_df = pd.read_csv('restaurant.csv')\n",
        "reting_df = pd.read_csv('reting.csv')"
      ],
      "metadata": {
        "id": "p3dPeOmowpaU"
      },
      "execution_count": 2,
      "outputs": []
    },
    {
      "cell_type": "markdown",
      "source": [
        "# **Inspect Individual Datasets:**"
      ],
      "metadata": {
        "id": "YNIaZPsczpgu"
      }
    },
    {
      "cell_type": "code",
      "source": [
        "print(provinsi_df.head())\n",
        "print(provinsi_df.info())\n",
        "print(provinsi_df.describe())\n",
        "\n",
        "print(kabupaten_df.head())\n",
        "print(kabupaten_df.info())\n",
        "print(kabupaten_df.describe())\n",
        "\n",
        "print(makanan_khas_df.head())\n",
        "print(makanan_khas_df.info())\n",
        "print(makanan_khas_df.describe())\n",
        "\n",
        "print(image_link_df.head())\n",
        "print(image_link_df.info())\n",
        "print(image_link_df.describe())\n",
        "\n",
        "print(restaurant_df.head())\n",
        "print(restaurant_df.info())\n",
        "print(restaurant_df.describe())\n",
        "\n",
        "print(reting_df.head())\n",
        "print(reting_df.info())\n",
        "print(reting_df.describe())"
      ],
      "metadata": {
        "colab": {
          "base_uri": "https://localhost:8080/"
        },
        "id": "K-a7sQnazsAD",
        "outputId": "3ef48f95-591b-4e85-b5cd-12a14268fa2d"
      },
      "execution_count": 3,
      "outputs": [
        {
          "output_type": "stream",
          "name": "stdout",
          "text": [
            "   id_provinsi   nama_provinsi\n",
            "0           11            ACEH\n",
            "1           12  SUMATERA UTARA\n",
            "2           13  SUMATERA BARAT\n",
            "3           14            RIAU\n",
            "4           15           JAMBI\n",
            "<class 'pandas.core.frame.DataFrame'>\n",
            "RangeIndex: 34 entries, 0 to 33\n",
            "Data columns (total 2 columns):\n",
            " #   Column         Non-Null Count  Dtype \n",
            "---  ------         --------------  ----- \n",
            " 0   id_provinsi    34 non-null     int64 \n",
            " 1   nama_provinsi  34 non-null     object\n",
            "dtypes: int64(1), object(1)\n",
            "memory usage: 672.0+ bytes\n",
            "None\n",
            "       id_provinsi\n",
            "count    34.000000\n",
            "mean     47.558824\n",
            "std      26.501219\n",
            "min      11.000000\n",
            "25%      19.500000\n",
            "50%      51.500000\n",
            "75%      71.750000\n",
            "max      94.000000\n",
            "   id_kabupaten  id_provinsi           nama_kabupaten\n",
            "0          1101           11       KABUPATEN SIMEULUE\n",
            "1          1102           11   KABUPATEN ACEH SINGKIL\n",
            "2          1103           11   KABUPATEN ACEH SELATAN\n",
            "3          1104           11  KABUPATEN ACEH TENGGARA\n",
            "4          1105           11     KABUPATEN ACEH TIMUR\n",
            "<class 'pandas.core.frame.DataFrame'>\n",
            "RangeIndex: 514 entries, 0 to 513\n",
            "Data columns (total 3 columns):\n",
            " #   Column          Non-Null Count  Dtype \n",
            "---  ------          --------------  ----- \n",
            " 0   id_kabupaten    514 non-null    int64 \n",
            " 1   id_provinsi     514 non-null    int64 \n",
            " 2   nama_kabupaten  514 non-null    object\n",
            "dtypes: int64(2), object(1)\n",
            "memory usage: 12.2+ KB\n",
            "None\n",
            "       id_kabupaten  id_provinsi\n",
            "count    514.000000   514.000000\n",
            "mean    4574.256809    45.529183\n",
            "std     2680.914631    26.841171\n",
            "min     1101.000000    11.000000\n",
            "25%     1804.250000    18.000000\n",
            "50%     3571.500000    35.000000\n",
            "75%     7194.250000    71.750000\n",
            "max     9471.000000    94.000000\n",
            "   id_makanan       makanan_khas  \\\n",
            "0           1       Sate Bandeng   \n",
            "1           2              Rabeg   \n",
            "2           3         Gerem Asem   \n",
            "3           4       Ketan Bintul   \n",
            "4           5  Nasi Bakar Sumsum   \n",
            "\n",
            "                                           deskripsi  \n",
            "0  Sate yang terbuat dari ikan bandeng, santan, d...  \n",
            "1  Makanan yang bahan dasarnya daging dan jeroan ...  \n",
            "2                 Masakan dengan rasa asam yang khas  \n",
            "3  Makanan dari beras ketan yang dibumbui dan dib...  \n",
            "4                    Nasi yang dibakar dengan sumsum  \n",
            "<class 'pandas.core.frame.DataFrame'>\n",
            "RangeIndex: 41 entries, 0 to 40\n",
            "Data columns (total 3 columns):\n",
            " #   Column        Non-Null Count  Dtype \n",
            "---  ------        --------------  ----- \n",
            " 0   id_makanan    41 non-null     int64 \n",
            " 1   makanan_khas  41 non-null     object\n",
            " 2   deskripsi     41 non-null     object\n",
            "dtypes: int64(1), object(2)\n",
            "memory usage: 1.1+ KB\n",
            "None\n",
            "       id_makanan\n",
            "count   41.000000\n",
            "mean    21.000000\n",
            "std     11.979149\n",
            "min      1.000000\n",
            "25%     11.000000\n",
            "50%     21.000000\n",
            "75%     31.000000\n",
            "max     41.000000\n",
            "                            id_makanan,\"image_link\";\n",
            "0  1,\"https://images.app.goo.gl/pGZeWe559XyGbMqD6\" ;\n",
            "1   2,\"https://images.app.goo.gl/kwBpGWcqmh5PeeGG8\";\n",
            "2  3,\"https://images.app.goo.gl/ApzSLFHboNyStntc9 \";\n",
            "3  4,\"https://images.app.goo.gl/vqbP132yoDmFtocj9 \";\n",
            "4   5,\"https://images.app.goo.gl/7jUR1ptRfVXrVqGY6\";\n",
            "<class 'pandas.core.frame.DataFrame'>\n",
            "RangeIndex: 41 entries, 0 to 40\n",
            "Data columns (total 1 columns):\n",
            " #   Column                    Non-Null Count  Dtype \n",
            "---  ------                    --------------  ----- \n",
            " 0   id_makanan,\"image_link\";  41 non-null     object\n",
            "dtypes: object(1)\n",
            "memory usage: 456.0+ bytes\n",
            "None\n",
            "                                 id_makanan,\"image_link\";\n",
            "count                                                  41\n",
            "unique                                                 41\n",
            "top     1,\"https://images.app.goo.gl/pGZeWe559XyGbMqD6\" ;\n",
            "freq                                                    1\n",
            "   id_restaurant  id_reting  id_makanan  id_provinsi  id_kabupaten  \\\n",
            "0              1          1           1           36          3673   \n",
            "1              2          2           1           36          3673   \n",
            "2              3          3           1           36          3673   \n",
            "3              4          4           2           36          3673   \n",
            "4              5          5           2           36          3673   \n",
            "\n",
            "                               nama_tempat  \\\n",
            "0           Sate Bandeng Ibu Amenah Serang   \n",
            "1  Sate Bandeng - Bekakak Ayam Hj. Mariyam   \n",
            "2                  Sate Bandeng Ibu Aliyah   \n",
            "3   Rabeg Khas Serang H. Naswi (Magersari)   \n",
            "4      Warung Dahar Rabeg Khas Wong Banten   \n",
            "\n",
            "                                              alamat        long       lat  \n",
            "0  Jl. Sayabulu km 1, Lingk No.11, RT.2/RW.1, Dal...  106.149564 -6.143376  \n",
            "1  Tengah, Jl. Ki Uju No.63, RT.003/RW.002, Tenga...  106.150161 -6.120695  \n",
            "2  Jl. Lopang Gede III, Lopang, Kec. Serang, Kota...  106.157729 -6.106640  \n",
            "3  Jl. Mayor Safei No.30, Kotabaru, Kec. Serang, ...  106.152353 -6.112720  \n",
            "4  Jalan Ayip Usman, Link. Cikepuh, Unyur, Kec. S...  106.170051 -6.105310  \n",
            "<class 'pandas.core.frame.DataFrame'>\n",
            "RangeIndex: 215 entries, 0 to 214\n",
            "Data columns (total 9 columns):\n",
            " #   Column         Non-Null Count  Dtype  \n",
            "---  ------         --------------  -----  \n",
            " 0   id_restaurant  215 non-null    int64  \n",
            " 1   id_reting      215 non-null    int64  \n",
            " 2   id_makanan     215 non-null    int64  \n",
            " 3   id_provinsi    215 non-null    int64  \n",
            " 4   id_kabupaten   215 non-null    int64  \n",
            " 5   nama_tempat    215 non-null    object \n",
            " 6   alamat         215 non-null    object \n",
            " 7   long           215 non-null    float64\n",
            " 8   lat            215 non-null    float64\n",
            "dtypes: float64(2), int64(5), object(2)\n",
            "memory usage: 15.2+ KB\n",
            "None\n",
            "       id_restaurant   id_reting  id_makanan  id_provinsi  id_kabupaten  \\\n",
            "count     215.000000  215.000000  215.000000   215.000000    215.000000   \n",
            "mean      108.000000  108.004651   18.344186    33.553488   3410.832558   \n",
            "std        62.209324   62.214619   12.192485     1.728182    171.370697   \n",
            "min         1.000000    1.000000    1.000000    31.000000   3171.000000   \n",
            "25%        54.500000   54.500000    8.000000    32.000000   3273.000000   \n",
            "50%       108.000000  108.000000   18.000000    34.000000   3402.000000   \n",
            "75%       161.500000  161.500000   28.000000    35.000000   3572.000000   \n",
            "max       215.000000  215.000000   41.000000    36.000000   3673.000000   \n",
            "\n",
            "             long         lat  \n",
            "count  215.000000  215.000000  \n",
            "mean   105.080824   -3.099698  \n",
            "std     20.882040   20.876903  \n",
            "min     -7.825709   -8.003713  \n",
            "25%    106.786608   -7.570374  \n",
            "50%    107.664481   -6.907587  \n",
            "75%    110.434573   -6.192507  \n",
            "max    112.771178  110.403326  \n",
            "   id_reting  nilai  jumlah_reting\n",
            "0          1      5            228\n",
            "1          2      5            642\n",
            "2          3      4            952\n",
            "3          4      4           1006\n",
            "4          5      4            220\n",
            "<class 'pandas.core.frame.DataFrame'>\n",
            "RangeIndex: 215 entries, 0 to 214\n",
            "Data columns (total 3 columns):\n",
            " #   Column         Non-Null Count  Dtype\n",
            "---  ------         --------------  -----\n",
            " 0   id_reting      215 non-null    int64\n",
            " 1   nilai          215 non-null    int64\n",
            " 2   jumlah_reting  215 non-null    int64\n",
            "dtypes: int64(3)\n",
            "memory usage: 5.2 KB\n",
            "None\n",
            "        id_reting       nilai  jumlah_reting\n",
            "count  215.000000  215.000000     215.000000\n",
            "mean   108.000000    4.469767     873.218605\n",
            "std     62.209324    0.960805    2830.810564\n",
            "min      1.000000    0.000000       0.000000\n",
            "25%     54.500000    4.000000       9.000000\n",
            "50%    108.000000    5.000000      59.000000\n",
            "75%    161.500000    5.000000     469.000000\n",
            "max    215.000000    5.000000   27861.000000\n"
          ]
        }
      ]
    },
    {
      "cell_type": "markdown",
      "source": [
        "# **Identify Data Types and Columns with Issues**"
      ],
      "metadata": {
        "id": "Vwl5_yTh04JZ"
      }
    },
    {
      "cell_type": "code",
      "source": [
        "print(provinsi_df.dtypes)\n",
        "print(kabupaten_df.dtypes)\n",
        "print(makanan_khas_df.dtypes)\n",
        "print(image_link_df.dtypes)\n",
        "print(restaurant_df.dtypes)\n",
        "print(reting_df.dtypes)"
      ],
      "metadata": {
        "colab": {
          "base_uri": "https://localhost:8080/"
        },
        "id": "m3-uR-Op06l3",
        "outputId": "0251b416-6749-43b8-bb3e-640d6d703559"
      },
      "execution_count": 4,
      "outputs": [
        {
          "output_type": "stream",
          "name": "stdout",
          "text": [
            "id_provinsi       int64\n",
            "nama_provinsi    object\n",
            "dtype: object\n",
            "id_kabupaten       int64\n",
            "id_provinsi        int64\n",
            "nama_kabupaten    object\n",
            "dtype: object\n",
            "id_makanan       int64\n",
            "makanan_khas    object\n",
            "deskripsi       object\n",
            "dtype: object\n",
            "id_makanan,\"image_link\";    object\n",
            "dtype: object\n",
            "id_restaurant      int64\n",
            "id_reting          int64\n",
            "id_makanan         int64\n",
            "id_provinsi        int64\n",
            "id_kabupaten       int64\n",
            "nama_tempat       object\n",
            "alamat            object\n",
            "long             float64\n",
            "lat              float64\n",
            "dtype: object\n",
            "id_reting        int64\n",
            "nilai            int64\n",
            "jumlah_reting    int64\n",
            "dtype: object\n"
          ]
        }
      ]
    },
    {
      "cell_type": "markdown",
      "source": [
        "# **Missing Data & Duplicate Data**"
      ],
      "metadata": {
        "id": "-qWeqtWfExR0"
      }
    },
    {
      "cell_type": "markdown",
      "source": [
        "provinsi_df"
      ],
      "metadata": {
        "id": "HI0kzIhsE4as"
      }
    },
    {
      "cell_type": "code",
      "source": [
        "provinsi_df.isnull().sum()"
      ],
      "metadata": {
        "colab": {
          "base_uri": "https://localhost:8080/"
        },
        "id": "M4ed_5AsEytV",
        "outputId": "07ae04d1-42e7-4410-d1fb-481f7114f990"
      },
      "execution_count": 5,
      "outputs": [
        {
          "output_type": "execute_result",
          "data": {
            "text/plain": [
              "id_provinsi      0\n",
              "nama_provinsi    0\n",
              "dtype: int64"
            ]
          },
          "metadata": {},
          "execution_count": 5
        }
      ]
    },
    {
      "cell_type": "code",
      "source": [
        "provinsi_df.duplicated().sum()"
      ],
      "metadata": {
        "colab": {
          "base_uri": "https://localhost:8080/"
        },
        "id": "IqW3FdSkH-yW",
        "outputId": "f83e9beb-1ed1-4380-f083-400b1597d423"
      },
      "execution_count": 6,
      "outputs": [
        {
          "output_type": "execute_result",
          "data": {
            "text/plain": [
              "0"
            ]
          },
          "metadata": {},
          "execution_count": 6
        }
      ]
    },
    {
      "cell_type": "markdown",
      "source": [
        "kabupaten_df"
      ],
      "metadata": {
        "id": "NkaYfe2mE-i6"
      }
    },
    {
      "cell_type": "code",
      "source": [
        "kabupaten_df.isnull().sum()"
      ],
      "metadata": {
        "colab": {
          "base_uri": "https://localhost:8080/"
        },
        "id": "wQDKsHIVFCTl",
        "outputId": "937ef0e6-4ce3-4190-d8cf-f811ee46d784"
      },
      "execution_count": 7,
      "outputs": [
        {
          "output_type": "execute_result",
          "data": {
            "text/plain": [
              "id_kabupaten      0\n",
              "id_provinsi       0\n",
              "nama_kabupaten    0\n",
              "dtype: int64"
            ]
          },
          "metadata": {},
          "execution_count": 7
        }
      ]
    },
    {
      "cell_type": "code",
      "source": [
        "kabupaten_df.duplicated().sum()"
      ],
      "metadata": {
        "colab": {
          "base_uri": "https://localhost:8080/"
        },
        "id": "vjmiVnQMIEyj",
        "outputId": "e7f1c55d-01c8-4500-efb9-6a63747991e9"
      },
      "execution_count": 8,
      "outputs": [
        {
          "output_type": "execute_result",
          "data": {
            "text/plain": [
              "0"
            ]
          },
          "metadata": {},
          "execution_count": 8
        }
      ]
    },
    {
      "cell_type": "markdown",
      "source": [
        "makanan_khas_df"
      ],
      "metadata": {
        "id": "gxmRtVitFO-N"
      }
    },
    {
      "cell_type": "code",
      "source": [
        "makanan_khas_df.isnull().sum()"
      ],
      "metadata": {
        "colab": {
          "base_uri": "https://localhost:8080/"
        },
        "id": "zjmzk73AFTFL",
        "outputId": "5bd56d7f-655d-4bc4-b819-b866e0998623"
      },
      "execution_count": 9,
      "outputs": [
        {
          "output_type": "execute_result",
          "data": {
            "text/plain": [
              "id_makanan      0\n",
              "makanan_khas    0\n",
              "deskripsi       0\n",
              "dtype: int64"
            ]
          },
          "metadata": {},
          "execution_count": 9
        }
      ]
    },
    {
      "cell_type": "code",
      "source": [
        "makanan_khas_df.duplicated().sum()"
      ],
      "metadata": {
        "colab": {
          "base_uri": "https://localhost:8080/"
        },
        "id": "auO4FKCBIJYH",
        "outputId": "a1f43cf6-31b2-4c88-ee6a-88349d9bfbc0"
      },
      "execution_count": 10,
      "outputs": [
        {
          "output_type": "execute_result",
          "data": {
            "text/plain": [
              "0"
            ]
          },
          "metadata": {},
          "execution_count": 10
        }
      ]
    },
    {
      "cell_type": "markdown",
      "source": [
        "image_link_df"
      ],
      "metadata": {
        "id": "36uDmaddF93v"
      }
    },
    {
      "cell_type": "code",
      "source": [
        "image_link_df.isnull().any(axis=1).sum()"
      ],
      "metadata": {
        "colab": {
          "base_uri": "https://localhost:8080/"
        },
        "id": "EugHyFG1GAYp",
        "outputId": "a6dde63f-96d5-44dc-fe68-9b051db7df8b"
      },
      "execution_count": 11,
      "outputs": [
        {
          "output_type": "execute_result",
          "data": {
            "text/plain": [
              "0"
            ]
          },
          "metadata": {},
          "execution_count": 11
        }
      ]
    },
    {
      "cell_type": "code",
      "source": [
        "image_link_df.duplicated().sum()"
      ],
      "metadata": {
        "colab": {
          "base_uri": "https://localhost:8080/"
        },
        "id": "Y8HRR2DmIOrc",
        "outputId": "2ad7dde2-5085-49e4-e407-18e5c6bad06f"
      },
      "execution_count": 12,
      "outputs": [
        {
          "output_type": "execute_result",
          "data": {
            "text/plain": [
              "0"
            ]
          },
          "metadata": {},
          "execution_count": 12
        }
      ]
    },
    {
      "cell_type": "markdown",
      "source": [
        "restaurant_df"
      ],
      "metadata": {
        "id": "QX2nNDpoHUKk"
      }
    },
    {
      "cell_type": "code",
      "source": [
        "restaurant_df.isnull().sum()"
      ],
      "metadata": {
        "colab": {
          "base_uri": "https://localhost:8080/"
        },
        "id": "xYNfPNZvHYBs",
        "outputId": "ff21c97f-a9a7-43ee-8da8-672a6e0771e6"
      },
      "execution_count": 13,
      "outputs": [
        {
          "output_type": "execute_result",
          "data": {
            "text/plain": [
              "id_restaurant    0\n",
              "id_reting        0\n",
              "id_makanan       0\n",
              "id_provinsi      0\n",
              "id_kabupaten     0\n",
              "nama_tempat      0\n",
              "alamat           0\n",
              "long             0\n",
              "lat              0\n",
              "dtype: int64"
            ]
          },
          "metadata": {},
          "execution_count": 13
        }
      ]
    },
    {
      "cell_type": "code",
      "source": [
        "restaurant_df.duplicated().sum()"
      ],
      "metadata": {
        "colab": {
          "base_uri": "https://localhost:8080/"
        },
        "id": "YHsfAcNCITQh",
        "outputId": "3d0c8aab-42cc-4044-b704-10a49e22cd6d"
      },
      "execution_count": 14,
      "outputs": [
        {
          "output_type": "execute_result",
          "data": {
            "text/plain": [
              "0"
            ]
          },
          "metadata": {},
          "execution_count": 14
        }
      ]
    },
    {
      "cell_type": "markdown",
      "source": [
        "rating_df"
      ],
      "metadata": {
        "id": "jnahGUXVHb2E"
      }
    },
    {
      "cell_type": "code",
      "source": [
        "reting_df.isnull().sum()"
      ],
      "metadata": {
        "colab": {
          "base_uri": "https://localhost:8080/"
        },
        "id": "g90VIBWjHdaj",
        "outputId": "363b3773-2a4d-4e9d-a29b-3125c16a8e9e"
      },
      "execution_count": 15,
      "outputs": [
        {
          "output_type": "execute_result",
          "data": {
            "text/plain": [
              "id_reting        0\n",
              "nilai            0\n",
              "jumlah_reting    0\n",
              "dtype: int64"
            ]
          },
          "metadata": {},
          "execution_count": 15
        }
      ]
    },
    {
      "cell_type": "code",
      "source": [
        "reting_df.duplicated().sum()"
      ],
      "metadata": {
        "colab": {
          "base_uri": "https://localhost:8080/"
        },
        "id": "xVB4Bl4nIWn1",
        "outputId": "d63163a4-5a64-41ca-8f00-c8174f759561"
      },
      "execution_count": 16,
      "outputs": [
        {
          "output_type": "execute_result",
          "data": {
            "text/plain": [
              "0"
            ]
          },
          "metadata": {},
          "execution_count": 16
        }
      ]
    }
  ],
  "metadata": {
    "colab": {
      "provenance": []
    },
    "kernelspec": {
      "display_name": "Python 3",
      "name": "python3"
    }
  },
  "nbformat": 4,
  "nbformat_minor": 0
}