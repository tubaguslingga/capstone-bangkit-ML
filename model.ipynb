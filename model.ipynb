{
  "cells": [
    {
      "cell_type": "code",
      "execution_count": null,
      "metadata": {
        "id": "PtSn4jLDdfTt"
      },
      "outputs": [],
      "source": [
        "import pandas as pd\n",
        "import numpy as np\n",
        "import seaborn as sns\n",
        "import matplotlib.pyplot as plt\n",
        "from math import radians, sin, cos, sqrt, atan2\n",
        "from joblib import dump, load\n",
        "from sklearn.neighbors import NearestNeighbors\n",
        "from sklearn.metrics import mean_squared_error\n",
        "import tensorflow as tf\n",
        "from tensorflow.keras.models import Sequential\n",
        "from tensorflow.keras.layers import Dense\n",
        "from sklearn.cluster import KMeans\n",
        "from sklearn.preprocessing import StandardScaler\n",
        "from sklearn.model_selection import train_test_split\n",
        "from tensorflow.keras.utils import to_categorical\n"
      ]
    },
    {
      "cell_type": "code",
      "execution_count": null,
      "metadata": {
        "colab": {
          "base_uri": "https://localhost:8080/",
          "height": 212
        },
        "id": "f4XqQrRCzxI2",
        "outputId": "c396413d-05a7-4f23-ca35-620bb7797310"
      },
      "outputs": [
        {
          "output_type": "display_data",
          "data": {
            "text/plain": [
              "<IPython.core.display.HTML object>"
            ],
            "text/html": [
              "\n",
              "     <input type=\"file\" id=\"files-e32ee397-1075-42cb-945d-79be53960cf6\" name=\"files[]\" multiple disabled\n",
              "        style=\"border:none\" />\n",
              "     <output id=\"result-e32ee397-1075-42cb-945d-79be53960cf6\">\n",
              "      Upload widget is only available when the cell has been executed in the\n",
              "      current browser session. Please rerun this cell to enable.\n",
              "      </output>\n",
              "      <script>// Copyright 2017 Google LLC\n",
              "//\n",
              "// Licensed under the Apache License, Version 2.0 (the \"License\");\n",
              "// you may not use this file except in compliance with the License.\n",
              "// You may obtain a copy of the License at\n",
              "//\n",
              "//      http://www.apache.org/licenses/LICENSE-2.0\n",
              "//\n",
              "// Unless required by applicable law or agreed to in writing, software\n",
              "// distributed under the License is distributed on an \"AS IS\" BASIS,\n",
              "// WITHOUT WARRANTIES OR CONDITIONS OF ANY KIND, either express or implied.\n",
              "// See the License for the specific language governing permissions and\n",
              "// limitations under the License.\n",
              "\n",
              "/**\n",
              " * @fileoverview Helpers for google.colab Python module.\n",
              " */\n",
              "(function(scope) {\n",
              "function span(text, styleAttributes = {}) {\n",
              "  const element = document.createElement('span');\n",
              "  element.textContent = text;\n",
              "  for (const key of Object.keys(styleAttributes)) {\n",
              "    element.style[key] = styleAttributes[key];\n",
              "  }\n",
              "  return element;\n",
              "}\n",
              "\n",
              "// Max number of bytes which will be uploaded at a time.\n",
              "const MAX_PAYLOAD_SIZE = 100 * 1024;\n",
              "\n",
              "function _uploadFiles(inputId, outputId) {\n",
              "  const steps = uploadFilesStep(inputId, outputId);\n",
              "  const outputElement = document.getElementById(outputId);\n",
              "  // Cache steps on the outputElement to make it available for the next call\n",
              "  // to uploadFilesContinue from Python.\n",
              "  outputElement.steps = steps;\n",
              "\n",
              "  return _uploadFilesContinue(outputId);\n",
              "}\n",
              "\n",
              "// This is roughly an async generator (not supported in the browser yet),\n",
              "// where there are multiple asynchronous steps and the Python side is going\n",
              "// to poll for completion of each step.\n",
              "// This uses a Promise to block the python side on completion of each step,\n",
              "// then passes the result of the previous step as the input to the next step.\n",
              "function _uploadFilesContinue(outputId) {\n",
              "  const outputElement = document.getElementById(outputId);\n",
              "  const steps = outputElement.steps;\n",
              "\n",
              "  const next = steps.next(outputElement.lastPromiseValue);\n",
              "  return Promise.resolve(next.value.promise).then((value) => {\n",
              "    // Cache the last promise value to make it available to the next\n",
              "    // step of the generator.\n",
              "    outputElement.lastPromiseValue = value;\n",
              "    return next.value.response;\n",
              "  });\n",
              "}\n",
              "\n",
              "/**\n",
              " * Generator function which is called between each async step of the upload\n",
              " * process.\n",
              " * @param {string} inputId Element ID of the input file picker element.\n",
              " * @param {string} outputId Element ID of the output display.\n",
              " * @return {!Iterable<!Object>} Iterable of next steps.\n",
              " */\n",
              "function* uploadFilesStep(inputId, outputId) {\n",
              "  const inputElement = document.getElementById(inputId);\n",
              "  inputElement.disabled = false;\n",
              "\n",
              "  const outputElement = document.getElementById(outputId);\n",
              "  outputElement.innerHTML = '';\n",
              "\n",
              "  const pickedPromise = new Promise((resolve) => {\n",
              "    inputElement.addEventListener('change', (e) => {\n",
              "      resolve(e.target.files);\n",
              "    });\n",
              "  });\n",
              "\n",
              "  const cancel = document.createElement('button');\n",
              "  inputElement.parentElement.appendChild(cancel);\n",
              "  cancel.textContent = 'Cancel upload';\n",
              "  const cancelPromise = new Promise((resolve) => {\n",
              "    cancel.onclick = () => {\n",
              "      resolve(null);\n",
              "    };\n",
              "  });\n",
              "\n",
              "  // Wait for the user to pick the files.\n",
              "  const files = yield {\n",
              "    promise: Promise.race([pickedPromise, cancelPromise]),\n",
              "    response: {\n",
              "      action: 'starting',\n",
              "    }\n",
              "  };\n",
              "\n",
              "  cancel.remove();\n",
              "\n",
              "  // Disable the input element since further picks are not allowed.\n",
              "  inputElement.disabled = true;\n",
              "\n",
              "  if (!files) {\n",
              "    return {\n",
              "      response: {\n",
              "        action: 'complete',\n",
              "      }\n",
              "    };\n",
              "  }\n",
              "\n",
              "  for (const file of files) {\n",
              "    const li = document.createElement('li');\n",
              "    li.append(span(file.name, {fontWeight: 'bold'}));\n",
              "    li.append(span(\n",
              "        `(${file.type || 'n/a'}) - ${file.size} bytes, ` +\n",
              "        `last modified: ${\n",
              "            file.lastModifiedDate ? file.lastModifiedDate.toLocaleDateString() :\n",
              "                                    'n/a'} - `));\n",
              "    const percent = span('0% done');\n",
              "    li.appendChild(percent);\n",
              "\n",
              "    outputElement.appendChild(li);\n",
              "\n",
              "    const fileDataPromise = new Promise((resolve) => {\n",
              "      const reader = new FileReader();\n",
              "      reader.onload = (e) => {\n",
              "        resolve(e.target.result);\n",
              "      };\n",
              "      reader.readAsArrayBuffer(file);\n",
              "    });\n",
              "    // Wait for the data to be ready.\n",
              "    let fileData = yield {\n",
              "      promise: fileDataPromise,\n",
              "      response: {\n",
              "        action: 'continue',\n",
              "      }\n",
              "    };\n",
              "\n",
              "    // Use a chunked sending to avoid message size limits. See b/62115660.\n",
              "    let position = 0;\n",
              "    do {\n",
              "      const length = Math.min(fileData.byteLength - position, MAX_PAYLOAD_SIZE);\n",
              "      const chunk = new Uint8Array(fileData, position, length);\n",
              "      position += length;\n",
              "\n",
              "      const base64 = btoa(String.fromCharCode.apply(null, chunk));\n",
              "      yield {\n",
              "        response: {\n",
              "          action: 'append',\n",
              "          file: file.name,\n",
              "          data: base64,\n",
              "        },\n",
              "      };\n",
              "\n",
              "      let percentDone = fileData.byteLength === 0 ?\n",
              "          100 :\n",
              "          Math.round((position / fileData.byteLength) * 100);\n",
              "      percent.textContent = `${percentDone}% done`;\n",
              "\n",
              "    } while (position < fileData.byteLength);\n",
              "  }\n",
              "\n",
              "  // All done.\n",
              "  yield {\n",
              "    response: {\n",
              "      action: 'complete',\n",
              "    }\n",
              "  };\n",
              "}\n",
              "\n",
              "scope.google = scope.google || {};\n",
              "scope.google.colab = scope.google.colab || {};\n",
              "scope.google.colab._files = {\n",
              "  _uploadFiles,\n",
              "  _uploadFilesContinue,\n",
              "};\n",
              "})(self);\n",
              "</script> "
            ]
          },
          "metadata": {}
        },
        {
          "output_type": "stream",
          "name": "stdout",
          "text": [
            "Saving kabupaten.csv to kabupaten (1).csv\n",
            "Saving makanan_khas.csv to makanan_khas (1).csv\n",
            "Saving provinsi.csv to provinsi (1).csv\n",
            "Saving restaurant.csv to restaurant (2).csv\n",
            "Saving reting.csv to reting (1).csv\n"
          ]
        }
      ],
      "source": [
        "from google.colab import files\n",
        "uploaded = files.upload()"
      ]
    },
    {
      "cell_type": "code",
      "execution_count": null,
      "metadata": {
        "id": "4useSCVUzkEe"
      },
      "outputs": [],
      "source": [
        "restaurant = pd.read_csv('restaurant.csv')\n",
        "provinsi = pd.read_csv('provinsi.csv')\n",
        "makanan_khas = pd.read_csv('makanan_khas.csv')\n",
        "rating = pd.read_csv('reting.csv')"
      ]
    },
    {
      "cell_type": "code",
      "execution_count": null,
      "metadata": {
        "id": "uo3imGL10MzS"
      },
      "outputs": [],
      "source": [
        "restaurant_provinsi = pd.merge(restaurant, provinsi, on='id_provinsi')\n",
        "restaurant_provinsi_makanan_khas = pd.merge(restaurant_provinsi, makanan_khas, on='id_makanan')\n",
        "data_gabungan = pd.merge(restaurant_provinsi_makanan_khas, rating, on='id_reting')\n",
        "data_gabungan = data_gabungan[['id_restaurant','id_reting', 'nama_tempat', 'alamat', 'id_provinsi', 'nama_provinsi', 'id_makanan', 'harga', 'deskripsi', 'long', 'lat']]\n"
      ]
    },
    {
      "cell_type": "code",
      "execution_count": null,
      "metadata": {
        "colab": {
          "base_uri": "https://localhost:8080/",
          "height": 568
        },
        "id": "qTWyX98t4-fh",
        "outputId": "e1af666e-293c-46d9-9ddd-da94e7eac15b"
      },
      "outputs": [
        {
          "output_type": "display_data",
          "data": {
            "text/plain": [
              "<Figure size 1000x600 with 1 Axes>"
            ],
            "image/png": "[encoded data removed]"
          },
          "metadata": {}
        }
      ],
      "source": [
        "class_column = 'id_provinsi'\n",
        "plt.figure(figsize=(10, 6))\n",
        "sns.countplot(data=data_gabungan, x=class_column, order=data_gabungan[class_column].value_counts().index)\n",
        "plt.title('Distribusi Jumlah Sampel per Kelas')\n",
        "plt.xlabel('Kelas')\n",
        "plt.ylabel('Jumlah Sampel')\n",
        "plt.xticks(rotation=90)\n",
        "plt.show()"
      ]
    },
    {
      "cell_type": "code",
      "execution_count": null,
      "metadata": {
        "colab": {
          "base_uri": "https://localhost:8080/"
        },
        "id": "uae5Ics483VN",
        "outputId": "069feef2-4331-459c-a048-c469c4e8c522"
      },
      "outputs": [
        {
          "output_type": "stream",
          "name": "stdout",
          "text": [
            "Jumlah sampel per kelas:\n",
            "id_provinsi\n",
            "36    39\n",
            "35    36\n",
            "31    35\n",
            "33    35\n",
            "32    35\n",
            "34    35\n",
            "Name: count, dtype: int64\n"
          ]
        }
      ],
      "source": [
        "samples_per_class = data_gabungan[class_column].value_counts()\n",
        "print(f\"Jumlah sampel per kelas:\\n{samples_per_class}\")"
      ]
    },
    {
      "cell_type": "code",
      "execution_count": null,
      "metadata": {
        "colab": {
          "base_uri": "https://localhost:8080/"
        },
        "id": "Q5ucSshq-D7Q",
        "outputId": "ff6d0e2a-21da-445d-b7d4-1389d5ef0086"
      },
      "outputs": [
        {
          "output_type": "stream",
          "name": "stdout",
          "text": [
            "Statistik Jumlah Sampel per Kelas:\n",
            "count     6.000000\n",
            "mean     35.833333\n",
            "std       1.602082\n",
            "min      35.000000\n",
            "25%      35.000000\n",
            "50%      35.000000\n",
            "75%      35.750000\n",
            "max      39.000000\n",
            "Name: count, dtype: float64\n",
            "Jumlah sampel minimal dalam satu kelas: 35\n",
            "Jumlah sampel maksimal dalam satu kelas: 39\n"
          ]
        }
      ],
      "source": [
        "samples_per_class = data_gabungan[class_column].value_counts()\n",
        "print(f\"Statistik Jumlah Sampel per Kelas:\\n{samples_per_class.describe()}\")\n",
        "print(f\"Jumlah sampel minimal dalam satu kelas: {samples_per_class.min()}\")\n",
        "print(f\"Jumlah sampel maksimal dalam satu kelas: {samples_per_class.max()}\")"
      ]
    },
    {
      "cell_type": "code",
      "execution_count": null,
      "metadata": {
        "colab": {
          "base_uri": "https://localhost:8080/"
        },
        "id": "nY2EEj0q2GfM",
        "outputId": "8eef01ff-c9ab-426b-e487-34e7e9c7df6a"
      },
      "outputs": [
        {
          "output_type": "execute_result",
          "data": {
            "text/plain": [
              "id_restaurant    0\n",
              "id_reting        0\n",
              "nama_tempat      0\n",
              "alamat           0\n",
              "id_provinsi      0\n",
              "nama_provinsi    0\n",
              "id_makanan       0\n",
              "harga            0\n",
              "deskripsi        0\n",
              "long             0\n",
              "lat              0\n",
              "dtype: int64"
            ]
          },
          "metadata": {},
          "execution_count": 18
        }
      ],
      "source": [
        "data_gabungan.isnull().sum().sort_values(ascending = False)"
      ]
    },
    {
      "cell_type": "code",
      "execution_count": null,
      "metadata": {
        "colab": {
          "base_uri": "https://localhost:8080/"
        },
        "id": "oTGA0MRI34ID",
        "outputId": "66a61734-af3d-4f73-81ca-1d835577663e"
      },
      "outputs": [
        {
          "output_type": "stream",
          "name": "stdout",
          "text": [
            "<class 'pandas.core.frame.DataFrame'>\n",
            "RangeIndex: 215 entries, 0 to 214\n",
            "Data columns (total 11 columns):\n",
            " #   Column         Non-Null Count  Dtype  \n",
            "---  ------         --------------  -----  \n",
            " 0   id_restaurant  215 non-null    int64  \n",
            " 1   id_reting      215 non-null    int64  \n",
            " 2   nama_tempat    215 non-null    object \n",
            " 3   alamat         215 non-null    object \n",
            " 4   id_provinsi    215 non-null    int64  \n",
            " 5   nama_provinsi  215 non-null    object \n",
            " 6   id_makanan     215 non-null    int64  \n",
            " 7   harga          215 non-null    object \n",
            " 8   deskripsi      215 non-null    object \n",
            " 9   long           215 non-null    float64\n",
            " 10  lat            215 non-null    float64\n",
            "dtypes: float64(2), int64(4), object(5)\n",
            "memory usage: 18.6+ KB\n"
          ]
        }
      ],
      "source": [
        "data_gabungan.info()"
      ]
    },
    {
      "cell_type": "code",
      "execution_count": null,
      "metadata": {
        "colab": {
          "base_uri": "https://localhost:8080/"
        },
        "id": "a-2sKDha3__F",
        "outputId": "26039cf8-7cdb-41b7-bf86-21f3707b55d7"
      },
      "outputs": [
        {
          "output_type": "execute_result",
          "data": {
            "text/plain": [
              "0"
            ]
          },
          "metadata": {},
          "execution_count": 20
        }
      ],
      "source": [
        "data_gabungan.duplicated().sum()"
      ]
    },
    {
      "cell_type": "code",
      "execution_count": null,
      "metadata": {
        "id": "4fyjhMfj8PCI"
      },
      "outputs": [],
      "source": [
        "def haversine(lat1, lon1, lat2, lon2):\n",
        "    R = 6371.0\n",
        "    dlat = radians(lat2 - lat1)\n",
        "    dlon = radians(lon2 - lon1)\n",
        "    a = sin(dlat / 2)**2 + cos(radians(lat1)) * cos(radians(lat2)) * sin(dlon / 2)**2\n",
        "    c = 2 * atan2(sqrt(a), sqrt(1 - a))\n",
        "    distance = R * c\n",
        "    return distance\n",
        "\n",
        "user_lat = -6.200000\n",
        "user_lon = 106.816666\n",
        "\n",
        "data_gabungan['distance'] = data_gabungan.apply(lambda row: haversine(user_lat, user_lon, row['lat'], row['long']), axis=1)\n",
        "\n",
        "# Filter restoran yang berjarak maksimal 20 km\n",
        "filtered_restaurants = data_gabungan[data_gabungan['distance'] <= 20]"
      ]
    },
    {
      "cell_type": "code",
      "execution_count": null,
      "metadata": {
        "colab": {
          "base_uri": "https://localhost:8080/"
        },
        "id": "PfOAEFxB_WI-",
        "outputId": "9e708c8c-4f7f-46ac-d260-92442c2853ae"
      },
      "outputs": [
        {
          "output_type": "stream",
          "name": "stderr",
          "text": [
            "/usr/local/lib/python3.10/dist-packages/sklearn/cluster/_kmeans.py:870: FutureWarning: The default value of `n_init` will change from 10 to 'auto' in 1.4. Set the value of `n_init` explicitly to suppress the warning\n",
            "  warnings.warn(\n",
            "<ipython-input-22-f057e6904fdc>:7: SettingWithCopyWarning: \n",
            "A value is trying to be set on a copy of a slice from a DataFrame.\n",
            "Try using .loc[row_indexer,col_indexer] = value instead\n",
            "\n",
            "See the caveats in the documentation: https://pandas.pydata.org/pandas-docs/stable/user_guide/indexing.html#returning-a-view-versus-a-copy\n",
            "  filtered_restaurants['cluster'] = kmeans.fit_predict(scaled_features)\n"
          ]
        },
        {
          "output_type": "stream",
          "name": "stdout",
          "text": [
            "Epoch 1/150\n",
            "1/1 - 2s - loss: 1.6170 - accuracy: 0.1364 - val_loss: 1.6329 - val_accuracy: 0.0000e+00 - 2s/epoch - 2s/step\n",
            "Epoch 2/150\n",
            "1/1 - 0s - loss: 1.5804 - accuracy: 0.2273 - val_loss: 1.6208 - val_accuracy: 0.0000e+00 - 54ms/epoch - 54ms/step\n",
            "Epoch 3/150\n",
            "1/1 - 0s - loss: 1.5462 - accuracy: 0.4091 - val_loss: 1.6111 - val_accuracy: 0.0000e+00 - 54ms/epoch - 54ms/step\n",
            "Epoch 4/150\n",
            "1/1 - 0s - loss: 1.5140 - accuracy: 0.5455 - val_loss: 1.6017 - val_accuracy: 0.1667 - 37ms/epoch - 37ms/step\n",
            "Epoch 5/150\n",
            "1/1 - 0s - loss: 1.4836 - accuracy: 0.6818 - val_loss: 1.5928 - val_accuracy: 0.1667 - 54ms/epoch - 54ms/step\n",
            "Epoch 6/150\n",
            "1/1 - 0s - loss: 1.4547 - accuracy: 0.6818 - val_loss: 1.5837 - val_accuracy: 0.1667 - 52ms/epoch - 52ms/step\n",
            "Epoch 7/150\n",
            "1/1 - 0s - loss: 1.4272 - accuracy: 0.6818 - val_loss: 1.5749 - val_accuracy: 0.1667 - 35ms/epoch - 35ms/step\n",
            "Epoch 8/150\n",
            "1/1 - 0s - loss: 1.4004 - accuracy: 0.7273 - val_loss: 1.5666 - val_accuracy: 0.1667 - 37ms/epoch - 37ms/step\n",
            "Epoch 9/150\n",
            "1/1 - 0s - loss: 1.3743 - accuracy: 0.8182 - val_loss: 1.5584 - val_accuracy: 0.3333 - 37ms/epoch - 37ms/step\n",
            "Epoch 10/150\n",
            "1/1 - 0s - loss: 1.3496 - accuracy: 0.8182 - val_loss: 1.5504 - val_accuracy: 0.3333 - 53ms/epoch - 53ms/step\n",
            "Epoch 11/150\n",
            "1/1 - 0s - loss: 1.3258 - accuracy: 0.8182 - val_loss: 1.5428 - val_accuracy: 0.3333 - 37ms/epoch - 37ms/step\n",
            "Epoch 12/150\n",
            "1/1 - 0s - loss: 1.3028 - accuracy: 0.8182 - val_loss: 1.5354 - val_accuracy: 0.3333 - 38ms/epoch - 38ms/step\n",
            "Epoch 13/150\n",
            "1/1 - 0s - loss: 1.2804 - accuracy: 0.8182 - val_loss: 1.5278 - val_accuracy: 0.3333 - 35ms/epoch - 35ms/step\n",
            "Epoch 14/150\n",
            "1/1 - 0s - loss: 1.2582 - accuracy: 0.8182 - val_loss: 1.5197 - val_accuracy: 0.3333 - 35ms/epoch - 35ms/step\n",
            "Epoch 15/150\n",
            "1/1 - 0s - loss: 1.2364 - accuracy: 0.8182 - val_loss: 1.5113 - val_accuracy: 0.3333 - 52ms/epoch - 52ms/step\n",
            "Epoch 16/150\n",
            "1/1 - 0s - loss: 1.2147 - accuracy: 0.8182 - val_loss: 1.5023 - val_accuracy: 0.3333 - 39ms/epoch - 39ms/step\n",
            "Epoch 17/150\n",
            "1/1 - 0s - loss: 1.1930 - accuracy: 0.8182 - val_loss: 1.4924 - val_accuracy: 0.3333 - 39ms/epoch - 39ms/step\n",
            "Epoch 18/150\n",
            "1/1 - 0s - loss: 1.1712 - accuracy: 0.8182 - val_loss: 1.4819 - val_accuracy: 0.3333 - 58ms/epoch - 58ms/step\n",
            "Epoch 19/150\n",
            "1/1 - 0s - loss: 1.1493 - accuracy: 0.8182 - val_loss: 1.4705 - val_accuracy: 0.3333 - 56ms/epoch - 56ms/step\n",
            "Epoch 20/150\n",
            "1/1 - 0s - loss: 1.1273 - accuracy: 0.8182 - val_loss: 1.4587 - val_accuracy: 0.3333 - 47ms/epoch - 47ms/step\n",
            "Epoch 21/150\n",
            "1/1 - 0s - loss: 1.1052 - accuracy: 0.8182 - val_loss: 1.4464 - val_accuracy: 0.3333 - 35ms/epoch - 35ms/step\n",
            "Epoch 22/150\n",
            "1/1 - 0s - loss: 1.0832 - accuracy: 0.8182 - val_loss: 1.4336 - val_accuracy: 0.3333 - 36ms/epoch - 36ms/step\n",
            "Epoch 23/150\n",
            "1/1 - 0s - loss: 1.0613 - accuracy: 0.8182 - val_loss: 1.4200 - val_accuracy: 0.3333 - 51ms/epoch - 51ms/step\n",
            "Epoch 24/150\n",
            "1/1 - 0s - loss: 1.0395 - accuracy: 0.8182 - val_loss: 1.4059 - val_accuracy: 0.3333 - 54ms/epoch - 54ms/step\n",
            "Epoch 25/150\n",
            "1/1 - 0s - loss: 1.0177 - accuracy: 0.8182 - val_loss: 1.3912 - val_accuracy: 0.3333 - 36ms/epoch - 36ms/step\n",
            "Epoch 26/150\n",
            "1/1 - 0s - loss: 0.9958 - accuracy: 0.8182 - val_loss: 1.3760 - val_accuracy: 0.3333 - 53ms/epoch - 53ms/step\n",
            "Epoch 27/150\n",
            "1/1 - 0s - loss: 0.9738 - accuracy: 0.8182 - val_loss: 1.3604 - val_accuracy: 0.3333 - 60ms/epoch - 60ms/step\n",
            "Epoch 28/150\n",
            "1/1 - 0s - loss: 0.9517 - accuracy: 0.8182 - val_loss: 1.3441 - val_accuracy: 0.3333 - 42ms/epoch - 42ms/step\n",
            "Epoch 29/150\n",
            "1/1 - 0s - loss: 0.9298 - accuracy: 0.8182 - val_loss: 1.3272 - val_accuracy: 0.3333 - 38ms/epoch - 38ms/step\n",
            "Epoch 30/150\n",
            "1/1 - 0s - loss: 0.9078 - accuracy: 0.8182 - val_loss: 1.3098 - val_accuracy: 0.3333 - 52ms/epoch - 52ms/step\n",
            "Epoch 31/150\n",
            "1/1 - 0s - loss: 0.8858 - accuracy: 0.8182 - val_loss: 1.2917 - val_accuracy: 0.3333 - 38ms/epoch - 38ms/step\n",
            "Epoch 32/150\n",
            "1/1 - 0s - loss: 0.8640 - accuracy: 0.8182 - val_loss: 1.2731 - val_accuracy: 0.3333 - 54ms/epoch - 54ms/step\n",
            "Epoch 33/150\n",
            "1/1 - 0s - loss: 0.8423 - accuracy: 0.8182 - val_loss: 1.2541 - val_accuracy: 0.3333 - 45ms/epoch - 45ms/step\n",
            "Epoch 34/150\n",
            "1/1 - 0s - loss: 0.8206 - accuracy: 0.8636 - val_loss: 1.2343 - val_accuracy: 0.5000 - 38ms/epoch - 38ms/step\n",
            "Epoch 35/150\n",
            "1/1 - 0s - loss: 0.7990 - accuracy: 0.8636 - val_loss: 1.2143 - val_accuracy: 0.5000 - 43ms/epoch - 43ms/step\n",
            "Epoch 36/150\n",
            "1/1 - 0s - loss: 0.7776 - accuracy: 0.8636 - val_loss: 1.1941 - val_accuracy: 0.5000 - 52ms/epoch - 52ms/step\n",
            "Epoch 37/150\n",
            "1/1 - 0s - loss: 0.7564 - accuracy: 0.8636 - val_loss: 1.1737 - val_accuracy: 0.5000 - 66ms/epoch - 66ms/step\n",
            "Epoch 38/150\n",
            "1/1 - 0s - loss: 0.7355 - accuracy: 0.8636 - val_loss: 1.1532 - val_accuracy: 0.5000 - 50ms/epoch - 50ms/step\n",
            "Epoch 39/150\n",
            "1/1 - 0s - loss: 0.7150 - accuracy: 0.8636 - val_loss: 1.1327 - val_accuracy: 0.5000 - 53ms/epoch - 53ms/step\n",
            "Epoch 40/150\n",
            "1/1 - 0s - loss: 0.6946 - accuracy: 0.8636 - val_loss: 1.1124 - val_accuracy: 0.6667 - 54ms/epoch - 54ms/step\n",
            "Epoch 41/150\n",
            "1/1 - 0s - loss: 0.6747 - accuracy: 0.8636 - val_loss: 1.0919 - val_accuracy: 0.6667 - 40ms/epoch - 40ms/step\n",
            "Epoch 42/150\n",
            "1/1 - 0s - loss: 0.6551 - accuracy: 0.8636 - val_loss: 1.0717 - val_accuracy: 0.6667 - 46ms/epoch - 46ms/step\n",
            "Epoch 43/150\n",
            "1/1 - 0s - loss: 0.6359 - accuracy: 0.8636 - val_loss: 1.0516 - val_accuracy: 0.6667 - 43ms/epoch - 43ms/step\n",
            "Epoch 44/150\n",
            "1/1 - 0s - loss: 0.6172 - accuracy: 0.8636 - val_loss: 1.0316 - val_accuracy: 0.6667 - 54ms/epoch - 54ms/step\n",
            "Epoch 45/150\n",
            "1/1 - 0s - loss: 0.5989 - accuracy: 0.8636 - val_loss: 1.0119 - val_accuracy: 0.6667 - 27ms/epoch - 27ms/step\n",
            "Epoch 46/150\n",
            "1/1 - 0s - loss: 0.5812 - accuracy: 0.8636 - val_loss: 0.9925 - val_accuracy: 0.6667 - 26ms/epoch - 26ms/step\n",
            "Epoch 47/150\n",
            "1/1 - 0s - loss: 0.5639 - accuracy: 0.8636 - val_loss: 0.9735 - val_accuracy: 0.6667 - 26ms/epoch - 26ms/step\n",
            "Epoch 48/150\n",
            "1/1 - 0s - loss: 0.5470 - accuracy: 0.8636 - val_loss: 0.9550 - val_accuracy: 0.6667 - 26ms/epoch - 26ms/step\n",
            "Epoch 49/150\n",
            "1/1 - 0s - loss: 0.5308 - accuracy: 0.8636 - val_loss: 0.9370 - val_accuracy: 0.6667 - 26ms/epoch - 26ms/step\n",
            "Epoch 50/150\n",
            "1/1 - 0s - loss: 0.5152 - accuracy: 0.8636 - val_loss: 0.9197 - val_accuracy: 0.6667 - 27ms/epoch - 27ms/step\n",
            "Epoch 51/150\n",
            "1/1 - 0s - loss: 0.5000 - accuracy: 0.8636 - val_loss: 0.9028 - val_accuracy: 0.6667 - 28ms/epoch - 28ms/step\n",
            "Epoch 52/150\n",
            "1/1 - 0s - loss: 0.4854 - accuracy: 0.8636 - val_loss: 0.8866 - val_accuracy: 0.6667 - 30ms/epoch - 30ms/step\n",
            "Epoch 53/150\n",
            "1/1 - 0s - loss: 0.4714 - accuracy: 0.9091 - val_loss: 0.8709 - val_accuracy: 0.6667 - 27ms/epoch - 27ms/step\n",
            "Epoch 54/150\n",
            "1/1 - 0s - loss: 0.4578 - accuracy: 0.9091 - val_loss: 0.8556 - val_accuracy: 0.6667 - 26ms/epoch - 26ms/step\n",
            "Epoch 55/150\n",
            "1/1 - 0s - loss: 0.4450 - accuracy: 0.9091 - val_loss: 0.8408 - val_accuracy: 0.6667 - 27ms/epoch - 27ms/step\n",
            "Epoch 56/150\n",
            "1/1 - 0s - loss: 0.4326 - accuracy: 0.9091 - val_loss: 0.8265 - val_accuracy: 0.6667 - 27ms/epoch - 27ms/step\n",
            "Epoch 57/150\n",
            "1/1 - 0s - loss: 0.4207 - accuracy: 0.9091 - val_loss: 0.8128 - val_accuracy: 0.6667 - 28ms/epoch - 28ms/step\n",
            "Epoch 58/150\n",
            "1/1 - 0s - loss: 0.4093 - accuracy: 0.9091 - val_loss: 0.7996 - val_accuracy: 0.6667 - 27ms/epoch - 27ms/step\n",
            "Epoch 59/150\n",
            "1/1 - 0s - loss: 0.3983 - accuracy: 0.9091 - val_loss: 0.7868 - val_accuracy: 0.6667 - 26ms/epoch - 26ms/step\n",
            "Epoch 60/150\n",
            "1/1 - 0s - loss: 0.3877 - accuracy: 0.9091 - val_loss: 0.7744 - val_accuracy: 0.6667 - 27ms/epoch - 27ms/step\n",
            "Epoch 61/150\n",
            "1/1 - 0s - loss: 0.3774 - accuracy: 0.9091 - val_loss: 0.7625 - val_accuracy: 0.6667 - 27ms/epoch - 27ms/step\n",
            "Epoch 62/150\n",
            "1/1 - 0s - loss: 0.3674 - accuracy: 0.9091 - val_loss: 0.7509 - val_accuracy: 0.6667 - 26ms/epoch - 26ms/step\n",
            "Epoch 63/150\n",
            "1/1 - 0s - loss: 0.3579 - accuracy: 0.9091 - val_loss: 0.7395 - val_accuracy: 0.6667 - 27ms/epoch - 27ms/step\n",
            "Epoch 64/150\n",
            "1/1 - 0s - loss: 0.3487 - accuracy: 0.9091 - val_loss: 0.7284 - val_accuracy: 0.6667 - 29ms/epoch - 29ms/step\n",
            "Epoch 65/150\n",
            "1/1 - 0s - loss: 0.3399 - accuracy: 0.9091 - val_loss: 0.7176 - val_accuracy: 0.6667 - 27ms/epoch - 27ms/step\n",
            "Epoch 66/150\n",
            "1/1 - 0s - loss: 0.3314 - accuracy: 0.9091 - val_loss: 0.7070 - val_accuracy: 0.6667 - 27ms/epoch - 27ms/step\n",
            "Epoch 67/150\n",
            "1/1 - 0s - loss: 0.3233 - accuracy: 0.9545 - val_loss: 0.6967 - val_accuracy: 0.6667 - 29ms/epoch - 29ms/step\n",
            "Epoch 68/150\n",
            "1/1 - 0s - loss: 0.3155 - accuracy: 0.9545 - val_loss: 0.6868 - val_accuracy: 0.6667 - 27ms/epoch - 27ms/step\n",
            "Epoch 69/150\n",
            "1/1 - 0s - loss: 0.3079 - accuracy: 0.9545 - val_loss: 0.6772 - val_accuracy: 0.6667 - 28ms/epoch - 28ms/step\n",
            "Epoch 70/150\n",
            "1/1 - 0s - loss: 0.3004 - accuracy: 0.9545 - val_loss: 0.6679 - val_accuracy: 0.6667 - 43ms/epoch - 43ms/step\n",
            "Epoch 71/150\n",
            "1/1 - 0s - loss: 0.2932 - accuracy: 0.9545 - val_loss: 0.6589 - val_accuracy: 0.6667 - 28ms/epoch - 28ms/step\n",
            "Epoch 72/150\n",
            "1/1 - 0s - loss: 0.2864 - accuracy: 0.9545 - val_loss: 0.6500 - val_accuracy: 0.6667 - 26ms/epoch - 26ms/step\n",
            "Epoch 73/150\n",
            "1/1 - 0s - loss: 0.2797 - accuracy: 0.9545 - val_loss: 0.6415 - val_accuracy: 0.6667 - 26ms/epoch - 26ms/step\n",
            "Epoch 74/150\n",
            "1/1 - 0s - loss: 0.2733 - accuracy: 0.9545 - val_loss: 0.6332 - val_accuracy: 0.6667 - 28ms/epoch - 28ms/step\n",
            "Epoch 75/150\n",
            "1/1 - 0s - loss: 0.2670 - accuracy: 0.9545 - val_loss: 0.6248 - val_accuracy: 0.6667 - 43ms/epoch - 43ms/step\n",
            "Epoch 76/150\n",
            "1/1 - 0s - loss: 0.2607 - accuracy: 0.9545 - val_loss: 0.6164 - val_accuracy: 0.6667 - 27ms/epoch - 27ms/step\n",
            "Epoch 77/150\n",
            "1/1 - 0s - loss: 0.2547 - accuracy: 0.9545 - val_loss: 0.6082 - val_accuracy: 0.6667 - 27ms/epoch - 27ms/step\n",
            "Epoch 78/150\n",
            "1/1 - 0s - loss: 0.2488 - accuracy: 0.9545 - val_loss: 0.6002 - val_accuracy: 0.6667 - 27ms/epoch - 27ms/step\n",
            "Epoch 79/150\n",
            "1/1 - 0s - loss: 0.2431 - accuracy: 0.9545 - val_loss: 0.5923 - val_accuracy: 0.6667 - 27ms/epoch - 27ms/step\n",
            "Epoch 80/150\n",
            "1/1 - 0s - loss: 0.2375 - accuracy: 0.9545 - val_loss: 0.5844 - val_accuracy: 0.6667 - 27ms/epoch - 27ms/step\n",
            "Epoch 81/150\n",
            "1/1 - 0s - loss: 0.2320 - accuracy: 0.9545 - val_loss: 0.5766 - val_accuracy: 0.6667 - 27ms/epoch - 27ms/step\n",
            "Epoch 82/150\n",
            "1/1 - 0s - loss: 0.2267 - accuracy: 0.9545 - val_loss: 0.5691 - val_accuracy: 0.6667 - 26ms/epoch - 26ms/step\n",
            "Epoch 83/150\n",
            "1/1 - 0s - loss: 0.2216 - accuracy: 1.0000 - val_loss: 0.5617 - val_accuracy: 0.6667 - 26ms/epoch - 26ms/step\n",
            "Epoch 84/150\n",
            "1/1 - 0s - loss: 0.2167 - accuracy: 1.0000 - val_loss: 0.5544 - val_accuracy: 0.6667 - 26ms/epoch - 26ms/step\n",
            "Epoch 85/150\n",
            "1/1 - 0s - loss: 0.2119 - accuracy: 1.0000 - val_loss: 0.5470 - val_accuracy: 0.6667 - 26ms/epoch - 26ms/step\n",
            "Epoch 86/150\n",
            "1/1 - 0s - loss: 0.2072 - accuracy: 1.0000 - val_loss: 0.5396 - val_accuracy: 0.6667 - 28ms/epoch - 28ms/step\n",
            "Epoch 87/150\n",
            "1/1 - 0s - loss: 0.2026 - accuracy: 1.0000 - val_loss: 0.5323 - val_accuracy: 0.6667 - 30ms/epoch - 30ms/step\n",
            "Epoch 88/150\n",
            "1/1 - 0s - loss: 0.1981 - accuracy: 1.0000 - val_loss: 0.5251 - val_accuracy: 0.6667 - 27ms/epoch - 27ms/step\n",
            "Epoch 89/150\n",
            "1/1 - 0s - loss: 0.1936 - accuracy: 1.0000 - val_loss: 0.5180 - val_accuracy: 0.6667 - 27ms/epoch - 27ms/step\n",
            "Epoch 90/150\n",
            "1/1 - 0s - loss: 0.1893 - accuracy: 1.0000 - val_loss: 0.5111 - val_accuracy: 0.6667 - 27ms/epoch - 27ms/step\n",
            "Epoch 91/150\n",
            "1/1 - 0s - loss: 0.1850 - accuracy: 1.0000 - val_loss: 0.5047 - val_accuracy: 0.6667 - 28ms/epoch - 28ms/step\n",
            "Epoch 92/150\n",
            "1/1 - 0s - loss: 0.1809 - accuracy: 1.0000 - val_loss: 0.4986 - val_accuracy: 0.6667 - 31ms/epoch - 31ms/step\n",
            "Epoch 93/150\n",
            "1/1 - 0s - loss: 0.1769 - accuracy: 1.0000 - val_loss: 0.4926 - val_accuracy: 0.6667 - 33ms/epoch - 33ms/step\n",
            "Epoch 94/150\n",
            "1/1 - 0s - loss: 0.1730 - accuracy: 1.0000 - val_loss: 0.4866 - val_accuracy: 0.6667 - 29ms/epoch - 29ms/step\n",
            "Epoch 95/150\n",
            "1/1 - 0s - loss: 0.1692 - accuracy: 1.0000 - val_loss: 0.4806 - val_accuracy: 0.6667 - 28ms/epoch - 28ms/step\n",
            "Epoch 96/150\n",
            "1/1 - 0s - loss: 0.1654 - accuracy: 1.0000 - val_loss: 0.4746 - val_accuracy: 0.6667 - 29ms/epoch - 29ms/step\n",
            "Epoch 97/150\n",
            "1/1 - 0s - loss: 0.1618 - accuracy: 1.0000 - val_loss: 0.4687 - val_accuracy: 0.6667 - 34ms/epoch - 34ms/step\n",
            "Epoch 98/150\n",
            "1/1 - 0s - loss: 0.1582 - accuracy: 1.0000 - val_loss: 0.4630 - val_accuracy: 0.6667 - 26ms/epoch - 26ms/step\n",
            "Epoch 99/150\n",
            "1/1 - 0s - loss: 0.1547 - accuracy: 1.0000 - val_loss: 0.4575 - val_accuracy: 0.8333 - 26ms/epoch - 26ms/step\n",
            "Epoch 100/150\n",
            "1/1 - 0s - loss: 0.1514 - accuracy: 1.0000 - val_loss: 0.4522 - val_accuracy: 0.8333 - 26ms/epoch - 26ms/step\n",
            "Epoch 101/150\n",
            "1/1 - 0s - loss: 0.1481 - accuracy: 1.0000 - val_loss: 0.4470 - val_accuracy: 0.8333 - 27ms/epoch - 27ms/step\n",
            "Epoch 102/150\n",
            "1/1 - 0s - loss: 0.1450 - accuracy: 1.0000 - val_loss: 0.4422 - val_accuracy: 0.8333 - 32ms/epoch - 32ms/step\n",
            "Epoch 103/150\n",
            "1/1 - 0s - loss: 0.1419 - accuracy: 1.0000 - val_loss: 0.4376 - val_accuracy: 0.8333 - 26ms/epoch - 26ms/step\n",
            "Epoch 104/150\n",
            "1/1 - 0s - loss: 0.1388 - accuracy: 1.0000 - val_loss: 0.4332 - val_accuracy: 0.8333 - 28ms/epoch - 28ms/step\n",
            "Epoch 105/150\n",
            "1/1 - 0s - loss: 0.1358 - accuracy: 1.0000 - val_loss: 0.4291 - val_accuracy: 0.8333 - 31ms/epoch - 31ms/step\n",
            "Epoch 106/150\n",
            "1/1 - 0s - loss: 0.1329 - accuracy: 1.0000 - val_loss: 0.4250 - val_accuracy: 0.8333 - 28ms/epoch - 28ms/step\n",
            "Epoch 107/150\n",
            "1/1 - 0s - loss: 0.1301 - accuracy: 1.0000 - val_loss: 0.4210 - val_accuracy: 0.8333 - 27ms/epoch - 27ms/step\n",
            "Epoch 108/150\n",
            "1/1 - 0s - loss: 0.1274 - accuracy: 1.0000 - val_loss: 0.4170 - val_accuracy: 0.8333 - 31ms/epoch - 31ms/step\n",
            "Epoch 109/150\n",
            "1/1 - 0s - loss: 0.1247 - accuracy: 1.0000 - val_loss: 0.4131 - val_accuracy: 0.8333 - 27ms/epoch - 27ms/step\n",
            "Epoch 110/150\n",
            "1/1 - 0s - loss: 0.1221 - accuracy: 1.0000 - val_loss: 0.4092 - val_accuracy: 0.8333 - 27ms/epoch - 27ms/step\n",
            "Epoch 111/150\n",
            "1/1 - 0s - loss: 0.1195 - accuracy: 1.0000 - val_loss: 0.4054 - val_accuracy: 0.8333 - 27ms/epoch - 27ms/step\n",
            "Epoch 112/150\n",
            "1/1 - 0s - loss: 0.1170 - accuracy: 1.0000 - val_loss: 0.4018 - val_accuracy: 0.8333 - 28ms/epoch - 28ms/step\n",
            "Epoch 113/150\n",
            "1/1 - 0s - loss: 0.1146 - accuracy: 1.0000 - val_loss: 0.3984 - val_accuracy: 0.8333 - 28ms/epoch - 28ms/step\n",
            "Epoch 114/150\n",
            "1/1 - 0s - loss: 0.1122 - accuracy: 1.0000 - val_loss: 0.3952 - val_accuracy: 0.8333 - 29ms/epoch - 29ms/step\n",
            "Epoch 115/150\n",
            "1/1 - 0s - loss: 0.1098 - accuracy: 1.0000 - val_loss: 0.3923 - val_accuracy: 0.8333 - 27ms/epoch - 27ms/step\n",
            "Epoch 116/150\n",
            "1/1 - 0s - loss: 0.1075 - accuracy: 1.0000 - val_loss: 0.3894 - val_accuracy: 0.8333 - 26ms/epoch - 26ms/step\n",
            "Epoch 117/150\n",
            "1/1 - 0s - loss: 0.1053 - accuracy: 1.0000 - val_loss: 0.3865 - val_accuracy: 0.8333 - 26ms/epoch - 26ms/step\n",
            "Epoch 118/150\n",
            "1/1 - 0s - loss: 0.1031 - accuracy: 1.0000 - val_loss: 0.3836 - val_accuracy: 0.8333 - 27ms/epoch - 27ms/step\n",
            "Epoch 119/150\n",
            "1/1 - 0s - loss: 0.1010 - accuracy: 1.0000 - val_loss: 0.3805 - val_accuracy: 0.8333 - 26ms/epoch - 26ms/step\n",
            "Epoch 120/150\n",
            "1/1 - 0s - loss: 0.0989 - accuracy: 1.0000 - val_loss: 0.3775 - val_accuracy: 0.8333 - 26ms/epoch - 26ms/step\n",
            "Epoch 121/150\n",
            "1/1 - 0s - loss: 0.0969 - accuracy: 1.0000 - val_loss: 0.3745 - val_accuracy: 0.8333 - 30ms/epoch - 30ms/step\n",
            "Epoch 122/150\n",
            "1/1 - 0s - loss: 0.0949 - accuracy: 1.0000 - val_loss: 0.3716 - val_accuracy: 1.0000 - 26ms/epoch - 26ms/step\n",
            "Epoch 123/150\n",
            "1/1 - 0s - loss: 0.0929 - accuracy: 1.0000 - val_loss: 0.3688 - val_accuracy: 1.0000 - 27ms/epoch - 27ms/step\n",
            "Epoch 124/150\n",
            "1/1 - 0s - loss: 0.0910 - accuracy: 1.0000 - val_loss: 0.3660 - val_accuracy: 1.0000 - 26ms/epoch - 26ms/step\n",
            "Epoch 125/150\n",
            "1/1 - 0s - loss: 0.0890 - accuracy: 1.0000 - val_loss: 0.3636 - val_accuracy: 1.0000 - 31ms/epoch - 31ms/step\n",
            "Epoch 126/150\n",
            "1/1 - 0s - loss: 0.0872 - accuracy: 1.0000 - val_loss: 0.3612 - val_accuracy: 1.0000 - 27ms/epoch - 27ms/step\n",
            "Epoch 127/150\n",
            "1/1 - 0s - loss: 0.0854 - accuracy: 1.0000 - val_loss: 0.3588 - val_accuracy: 1.0000 - 26ms/epoch - 26ms/step\n",
            "Epoch 128/150\n",
            "1/1 - 0s - loss: 0.0836 - accuracy: 1.0000 - val_loss: 0.3564 - val_accuracy: 1.0000 - 27ms/epoch - 27ms/step\n",
            "Epoch 129/150\n",
            "1/1 - 0s - loss: 0.0819 - accuracy: 1.0000 - val_loss: 0.3540 - val_accuracy: 1.0000 - 28ms/epoch - 28ms/step\n",
            "Epoch 130/150\n",
            "1/1 - 0s - loss: 0.0803 - accuracy: 1.0000 - val_loss: 0.3515 - val_accuracy: 1.0000 - 27ms/epoch - 27ms/step\n",
            "Epoch 131/150\n",
            "1/1 - 0s - loss: 0.0787 - accuracy: 1.0000 - val_loss: 0.3489 - val_accuracy: 1.0000 - 27ms/epoch - 27ms/step\n",
            "Epoch 132/150\n",
            "1/1 - 0s - loss: 0.0771 - accuracy: 1.0000 - val_loss: 0.3465 - val_accuracy: 1.0000 - 27ms/epoch - 27ms/step\n",
            "Epoch 133/150\n",
            "1/1 - 0s - loss: 0.0756 - accuracy: 1.0000 - val_loss: 0.3439 - val_accuracy: 1.0000 - 27ms/epoch - 27ms/step\n",
            "Epoch 134/150\n",
            "1/1 - 0s - loss: 0.0741 - accuracy: 1.0000 - val_loss: 0.3415 - val_accuracy: 1.0000 - 31ms/epoch - 31ms/step\n",
            "Epoch 135/150\n",
            "1/1 - 0s - loss: 0.0726 - accuracy: 1.0000 - val_loss: 0.3391 - val_accuracy: 1.0000 - 30ms/epoch - 30ms/step\n",
            "Epoch 136/150\n",
            "1/1 - 0s - loss: 0.0712 - accuracy: 1.0000 - val_loss: 0.3368 - val_accuracy: 1.0000 - 26ms/epoch - 26ms/step\n",
            "Epoch 137/150\n",
            "1/1 - 0s - loss: 0.0698 - accuracy: 1.0000 - val_loss: 0.3346 - val_accuracy: 1.0000 - 28ms/epoch - 28ms/step\n",
            "Epoch 138/150\n",
            "1/1 - 0s - loss: 0.0684 - accuracy: 1.0000 - val_loss: 0.3325 - val_accuracy: 1.0000 - 26ms/epoch - 26ms/step\n",
            "Epoch 139/150\n",
            "1/1 - 0s - loss: 0.0670 - accuracy: 1.0000 - val_loss: 0.3305 - val_accuracy: 1.0000 - 27ms/epoch - 27ms/step\n",
            "Epoch 140/150\n",
            "1/1 - 0s - loss: 0.0657 - accuracy: 1.0000 - val_loss: 0.3284 - val_accuracy: 1.0000 - 26ms/epoch - 26ms/step\n",
            "Epoch 141/150\n",
            "1/1 - 0s - loss: 0.0644 - accuracy: 1.0000 - val_loss: 0.3263 - val_accuracy: 1.0000 - 27ms/epoch - 27ms/step\n",
            "Epoch 142/150\n",
            "1/1 - 0s - loss: 0.0631 - accuracy: 1.0000 - val_loss: 0.3241 - val_accuracy: 1.0000 - 28ms/epoch - 28ms/step\n",
            "Epoch 143/150\n",
            "1/1 - 0s - loss: 0.0619 - accuracy: 1.0000 - val_loss: 0.3219 - val_accuracy: 1.0000 - 26ms/epoch - 26ms/step\n",
            "Epoch 144/150\n",
            "1/1 - 0s - loss: 0.0606 - accuracy: 1.0000 - val_loss: 0.3197 - val_accuracy: 1.0000 - 28ms/epoch - 28ms/step\n",
            "Epoch 145/150\n",
            "1/1 - 0s - loss: 0.0594 - accuracy: 1.0000 - val_loss: 0.3176 - val_accuracy: 1.0000 - 27ms/epoch - 27ms/step\n",
            "Epoch 146/150\n",
            "1/1 - 0s - loss: 0.0583 - accuracy: 1.0000 - val_loss: 0.3157 - val_accuracy: 1.0000 - 27ms/epoch - 27ms/step\n",
            "Epoch 147/150\n",
            "1/1 - 0s - loss: 0.0571 - accuracy: 1.0000 - val_loss: 0.3138 - val_accuracy: 1.0000 - 26ms/epoch - 26ms/step\n",
            "Epoch 148/150\n",
            "1/1 - 0s - loss: 0.0560 - accuracy: 1.0000 - val_loss: 0.3121 - val_accuracy: 1.0000 - 26ms/epoch - 26ms/step\n",
            "Epoch 149/150\n",
            "1/1 - 0s - loss: 0.0549 - accuracy: 1.0000 - val_loss: 0.3105 - val_accuracy: 1.0000 - 26ms/epoch - 26ms/step\n",
            "Epoch 150/150\n",
            "1/1 - 0s - loss: 0.0538 - accuracy: 1.0000 - val_loss: 0.3090 - val_accuracy: 1.0000 - 27ms/epoch - 27ms/step\n"
          ]
        }
      ],
      "source": [
        "# Standardisasi fitur\n",
        "scaler = StandardScaler()\n",
        "scaled_features = scaler.fit_transform(filtered_restaurants[['lat', 'long']])\n",
        "\n",
        "# K-Means Clustering\n",
        "kmeans = KMeans(n_clusters=5, random_state=42)\n",
        "filtered_restaurants['cluster'] = kmeans.fit_predict(scaled_features)\n",
        "\n",
        "# Pisahkan data menjadi set pelatihan dan pengujian\n",
        "X_train, X_test, y_train, y_test = train_test_split(\n",
        "    scaled_features, filtered_restaurants['cluster'], test_size=0.2, random_state=42)\n",
        "\n",
        "# Mengonversi label ke bentuk categorical\n",
        "y_train_cat = to_categorical(y_train, num_classes=5)\n",
        "y_test_cat = to_categorical(y_test, num_classes=5)\n",
        "\n",
        "# Membangun model TensorFlow\n",
        "model = tf.keras.Sequential([\n",
        "    tf.keras.layers.Dense(128, activation='relu', input_shape=(2,)),\n",
        "    tf.keras.layers.Dense(64, activation='relu'),\n",
        "    tf.keras.layers.Dense(5, activation='softmax')\n",
        "])\n",
        "\n",
        "model.compile(optimizer='adam', loss='categorical_crossentropy', metrics=['accuracy'])\n",
        "\n",
        "# Melatih model\n",
        "history = model.fit(X_train, y_train_cat, epochs=150, validation_split=0.2, verbose=2)"
      ]
    },
    {
      "cell_type": "code",
      "execution_count": null,
      "metadata": {
        "id": "9wvBS1LCAh5y",
        "colab": {
          "base_uri": "https://localhost:8080/"
        },
        "outputId": "3d9a9ae7-c0e3-42f6-9036-31ef6da9f148"
      },
      "outputs": [
        {
          "output_type": "stream",
          "name": "stdout",
          "text": [
            "1/1 - 0s - loss: 0.1077 - accuracy: 1.0000 - 20ms/epoch - 20ms/step\n",
            "Akurasi set pelatihan: 1.00%, Loss set pelatihan: 0.11\n"
          ]
        }
      ],
      "source": [
        "# Evaluasi model pada set pelatihan\n",
        "train_loss, train_accuracy = model.evaluate(X_train, y_train_cat, verbose=2)\n",
        "print(f'Akurasi set pelatihan: {train_accuracy:.2f}%, Loss set pelatihan: {train_loss:.2f}')"
      ]
    },
    {
      "cell_type": "code",
      "source": [
        "# Evaluasi model pada set pengujian\n",
        "test_loss, test_accuracy = model.evaluate(X_test, y_test_cat, verbose=2)\n",
        "print('Akurasi model pada set pengujian: {:5.2f}%, Loss set pengujian: {:.2f}'.format(100 * test_accuracy, test_loss))"
      ],
      "metadata": {
        "colab": {
          "base_uri": "https://localhost:8080/"
        },
        "id": "qVzKwfSUJtFl",
        "outputId": "01391ea7-1849-4312-ac14-f584b73a7a40"
      },
      "execution_count": null,
      "outputs": [
        {
          "output_type": "stream",
          "name": "stdout",
          "text": [
            "1/1 - 0s - loss: 0.3836 - accuracy: 0.7143 - 42ms/epoch - 42ms/step\n",
            "Akurasi model pada set pengujian: 71.43%, Loss set pengujian: 0.38\n"
          ]
        }
      ]
    },
    {
      "cell_type": "code",
      "source": [
        "# Visualisasi kurva loss\n",
        "epochs = range(1, len(history.history['loss']) + 1)\n",
        "loss = history.history['loss']\n",
        "val_loss = history.history['val_loss']\n",
        "\n",
        "plt.plot(epochs, val_loss, '-', label='val_loss')\n",
        "plt.plot(epochs, loss, 'r-', label='loss')\n",
        "\n",
        "plt.xlabel('Epochs')\n",
        "plt.ylabel('Loss')\n",
        "plt.legend()\n",
        "\n",
        "plt.show()"
      ],
      "metadata": {
        "colab": {
          "base_uri": "https://localhost:8080/",
          "height": 449
        },
        "id": "EXRu6junS6w4",
        "outputId": "eb0dd8f7-8d1f-4238-ae45-e883b9f4fbdf"
      },
      "execution_count": null,
      "outputs": [
        {
          "output_type": "display_data",
          "data": {
            "text/plain": [
              "<Figure size 640x480 with 1 Axes>"
            ],
            "image/png": "[encoded data removed]"
          },
          "metadata": {}
        }
      ]
    },
    {
      "cell_type": "code",
      "source": [
        "# Tampilkan hasil restoran yang berada dalam jarak 20 km\n",
        "print(\"Restoran yang berada dalam jarak 20 km dari pengguna:\")\n",
        "print(filtered_restaurants[['id_restaurant', 'id_reting', 'id_makanan', 'id_provinsi', 'nama_tempat', 'harga', 'alamat', 'deskripsi', 'long', 'lat', 'distance', 'cluster']].to_string(index=False))"
      ],
      "metadata": {
        "colab": {
          "base_uri": "https://localhost:8080/"
        },
        "id": "WzP6YoyrXHNy",
        "outputId": "6e61b94a-05b6-4daa-f889-a766bfeee73a"
      },
      "execution_count": null,
      "outputs": [
        {
          "output_type": "stream",
          "name": "stdout",
          "text": [
            "Restoran yang berada dalam jarak 20 km dari pengguna:\n",
            " id_restaurant  id_reting  id_makanan  id_provinsi                                      nama_tempat                harga                                                                                                                                                                                               alamat                                                                                                                                 deskripsi       long       lat  distance  cluster\n",
            "            17         17           7           31                               Kerak telor Betawi  Rp.15.000 - R30.000                                                                 Jalan.H.Mali No.30, RT.9/RW.8, Srengseng Sawah, Kec. Jagakarsa, Kota Jakarta Selatan, Daerah Khusus Ibukota Jakarta 12630, Indonesia                    Makanan ini terbuat dari nasi yang dicampur dengan telur dan serundeng, dimasak dengan cara dibakar di atas tungku api 106.823141 -6.340648 15.655711        4\n",
            "            18         18           7           31                  KERAK TELOR KHAS BETAWI MAMPANG  Rp.15.000 - R30.000                                                                                                                                   RT.3/RW.5, Menteng, Central Jakarta City, Jakarta 10310, Indonesia                    Makanan ini terbuat dari nasi yang dicampur dengan telur dan serundeng, dimasak dengan cara dibakar di atas tungku api 106.828781 -6.197139  1.376517        2\n",
            "            19         19           7           31                           KERAK TELOR BANG DHORY  Rp.15.000 - R30.000                                                                      Jl. Wr. Jati Bar. IV, RT.14/RW.5, Kalibata, Kec. Pancoran, Kota Jakarta Selatan, Daerah Khusus Ibukota Jakarta 12740, Indonesia                    Makanan ini terbuat dari nasi yang dicampur dengan telur dan serundeng, dimasak dengan cara dibakar di atas tungku api 106.832581 -6.267864  7.748478        1\n",
            "           171        171           7           31                             Kerak Telor Bang Ade  Rp.15.000 - R30.000                                                                       Jl. Satria I No.261, RT.9/RW.2, Ujung Menteng, Kec. Cakung, Kota Jakarta Timur, Daerah Khusus Ibukota Jakarta 13960, Indonesia                    Makanan ini terbuat dari nasi yang dicampur dengan telur dan serundeng, dimasak dengan cara dibakar di atas tungku api 106.966314 -6.187385 16.602331        3\n",
            "           172        172           7           31                             Kerak Telor Pak Dudu  Rp.15.000 - R30.000                                                              Jl. Pejaten Barat II No.43 6, RT.6/RW.8, Pejaten Bar., Ps. Minggu, Kota Jakarta Selatan, Daerah Khusus Ibukota Jakarta 12510, Indonesia                    Makanan ini terbuat dari nasi yang dicampur dengan telur dan serundeng, dimasak dengan cara dibakar di atas tungku api 106.828239 -6.268715  7.747108        1\n",
            "           173        173           7           31                             Kerak telor mpok ayu  Rp.15.000 - R30.000                                         Jl :prumpung barat. Rt:09/05 rawa bunga, jatinegara No 10, RT.9/RW.5, Rw. Bunga, Jakarta, Kota Jakarta Timur, Daerah Khusus Ibukota Jakarta 13350, Indonesia                    Makanan ini terbuat dari nasi yang dicampur dengan telur dan serundeng, dimasak dengan cara dibakar di atas tungku api 106.872424 -6.221385  6.606406        0\n",
            "           174        174           7           31                         Kerak Telor Tunas Betawi  Rp.15.000 - R30.000                                                                   h Nasir rt002/002 no.28c, RT.2/RW.2, Srengseng, Kec. Kembangan, Kota Jakarta Barat, Daerah Khusus Ibukota Jakarta 11630, Indonesia                    Makanan ini terbuat dari nasi yang dicampur dengan telur dan serundeng, dimasak dengan cara dibakar di atas tungku api 106.756045 -6.204854  6.722991        2\n",
            "           175        175           7           31                  Kerak Telor Khas Betawi Al Aziz  Rp.15.000 - R30.000                                          prapatan SMK 32, Jl. Tebet Barat Dalam Raya, RT.20/RW.1, Tebet dalam raya, Kec. Tebet, Kota Jakarta Selatan, Daerah Khusus Ibukota Jakarta 12810, Indonesia                    Makanan ini terbuat dari nasi yang dicampur dengan telur dan serundeng, dimasak dengan cara dibakar di atas tungku api 106.849835 -6.229605  4.927510        0\n",
            "           176        176           7           31          Kerak Telor Bang Doel, Sejak Tahun 2000  Rp.15.000 - R30.000                                                           Jl. Pintu Air Raya No.68 6, RT.6/RW.1, Ps. Baru, Kecamatan Sawah Besar, Kota Jakarta Pusat, Daerah Khusus Ibukota Jakarta 10710, Indonesia                    Makanan ini terbuat dari nasi yang dicampur dengan telur dan serundeng, dimasak dengan cara dibakar di atas tungku api 106.832664 -6.163369  4.440561        2\n",
            "           177        177           7           31                   Kerak Telor Babeh Abdul Rohman  Rp.15.000 - R30.000                                                                              Jakarta Pusat 2 5, RT.2/RW.5, Menteng, Kec. Menteng, Kota Jakarta Pusat, Daerah Khusus Ibukota Jakarta 10310, Indonesia                    Makanan ini terbuat dari nasi yang dicampur dengan telur dan serundeng, dimasak dengan cara dibakar di atas tungku api 106.828330 -6.197719  1.314104        2\n",
            "           178        179           7           31                               Bang egg crust Roy  Rp.15.000 - R30.000                                                                                                         Jln swadaya pos rt 008/04 no 93, Pulo Gebang, Daerah Khusus Ibukota Jakarta 13950, Indonesia                    Makanan ini terbuat dari nasi yang dicampur dengan telur dan serundeng, dimasak dengan cara dibakar di atas tungku api 106.958910 -6.199406 15.724446        3\n",
            "            20         20           8           31                           Soto Betawi Haji Husen Rp.20.000 - Rp50.000 Jl. Padang Panjang No. 6C Pasar Manggis Setiabudi Jakarta Selatan DKI Jakarta 8 8, RT.8/RW.8, Ps. Manggis, Kecamatan Setiabudi, Kota Jakarta Selatan, Daerah Khusus Ibukota Jakarta 12850, Indonesia                                      Soto ini menggunakan bahan utama jeroan yang dicampur dengan kuah santan dan susu, serta daging sapi 106.844839 -6.213032  3.434958        0\n",
            "            21         21           8           31                             Soto Betawi H. Maruf Rp.20.000 - Rp50.000                                                                   Jl. RP. Soeroso No.36A 2, RT.2/RW.13, Gondangdia, Kec. Menteng, Kota Jakarta Pusat, Daerah Khusus Ibukota Jakarta 10350, Indonesia                                      Soto ini menggunakan bahan utama jeroan yang dicampur dengan kuah santan dan susu, serta daging sapi 106.835961 -6.191948  2.313269        2\n",
            "            22         22           8           31                         Soto Betawi Mpok Rodemah Rp.20.000 - Rp50.000                                                               Jl. Ciputat Raya No.29 1, RT.1/RW.12, Pd. Pinang, Kec. Kby. Lama, Kota Jakarta Selatan, Daerah Khusus Ibukota Jakarta 12310, Indonesia                                      Soto ini menggunakan bahan utama jeroan yang dicampur dengan kuah santan dan susu, serta daging sapi 106.775220 -6.271121  9.139453        1\n",
            "           157        157           8           31                          Soto Betawi Globe H.Oji Rp.20.000 - Rp50.000                                                                   Jl. Samanhudi No.4, RT.1/RW.3, Ps. Baru, Kecamatan Sawah Besar, Kota Jakarta Pusat, Daerah Khusus Ibukota Jakarta 10710, Indonesia                                      Soto ini menggunakan bahan utama jeroan yang dicampur dengan kuah santan dan susu, serta daging sapi 106.833138 -6.161190  4.683931        2\n",
            "           158        158           8           31                                      Soto Betawi Rp.20.000 - Rp50.000                                                                     9, Jl. Salemba Tengah No.65c, RT.9/RW.8, Paseban, Kec. Senen, Kota Jakarta Pusat, Daerah Khusus Ibukota Jakarta 10440, Indonesia                                      Soto ini menggunakan bahan utama jeroan yang dicampur dengan kuah santan dan susu, serta daging sapi 106.855974 -6.193366  4.407481        0\n",
            "           159        159           8           31 Soto dan Sop Khas Betawi Bang Nawi Tanjung Duren Rp.20.000 - Rp50.000                                                Jl. Tanjung Duren Raya No.362, RT.7/RW.3, Tj. Duren Utara, Kec. Grogol petamburan, Kota Jakarta Barat, Daerah Khusus Ibukota Jakarta 11470, Indonesia                                      Soto ini menggunakan bahan utama jeroan yang dicampur dengan kuah santan dan susu, serta daging sapi 106.783171 -6.173622  4.723735        2\n",
            "           160        160           8           31                            Soto Betawi H. Ma ruf Rp.20.000 - Rp50.000                                                      Wisma Tebet Raya, Jl. Tebet Raya No.23, RT.1/RW.2, Tebet Tim., Kec. Tebet, Kota Jakarta Selatan, Daerah Khusus Ibukota Jakarta 12820, Indonesia                                      Soto ini menggunakan bahan utama jeroan yang dicampur dengan kuah santan dan susu, serta daging sapi 106.852856 -6.229587  5.179533        0\n",
            "           161        161           8           31                             SOTO BETAWI H. YAKUB Rp.20.000 - Rp50.000                                                                 QQ7H+5R8, Jl. Kb. Mangga 4, RT.1/RW.2, Cipulir, Kec. Kby. Lama, Kota Jakarta Selatan, Daerah Khusus Ibukota Jakarta 12230, Indonesia                                      Soto ini menggunakan bahan utama jeroan yang dicampur dengan kuah santan dan susu, serta daging sapi 106.779571 -6.237116  5.817834        1\n",
            "           162        162           8           31                           Soto Betawi Rawamangun Rp.20.000 - Rp50.000                                                              Jl. Tenggiri No 18A RT.007/RW.06 Rawamangun, Jati, Kec. Pulo Gadung, Kota Jakarta Timur, Daerah Khusus Ibukota Jakarta 13220, Indonesia                                      Soto ini menggunakan bahan utama jeroan yang dicampur dengan kuah santan dan susu, serta daging sapi 106.893923 -6.200472  8.540497        0\n",
            "           163        163           8           31                            Soto Betawi H. Ma ruf Rp.20.000 - Rp50.000                                                                                Jl. Pramuka No.64, Utan Kayu Utara, Kec. Matraman, Kota Jakarta Timur, Daerah Khusus Ibukota Jakarta 10330, Indonesia                                      Soto ini menggunakan bahan utama jeroan yang dicampur dengan kuah santan dan susu, serta daging sapi 106.864649 -6.193067  5.360022        0\n",
            "           164        164           8           31                           Soto Betawi Bang Ujang Rp.20.000 - Rp50.000                                                                      1, Jl. Kyai Maja No.53, RT.1/RW.3, Gunung, Kec. Kby. Baru, Kota Jakarta Selatan, Daerah Khusus Ibukota Jakarta 12120, Indonesia                                      Soto ini menggunakan bahan utama jeroan yang dicampur dengan kuah santan dan susu, serta daging sapi 106.790046 -6.241493  5.472296        1\n",
            "           165        165           8           31                           Soto Betawi Haji Mamat Rp.20.000 - Rp50.000                                                            Jl. Mandala Raya No.10 13, RT.13/RW.5, Tomang, Kec. Grogol petamburan, Kota Jakarta Barat, Daerah Khusus Ibukota Jakarta 11440, Indonesia                                      Soto ini menggunakan bahan utama jeroan yang dicampur dengan kuah santan dan susu, serta daging sapi 106.799295 -6.176088  3.279834        2\n",
            "           166        166           8           31                      SOTO ROXY BETAWI H. DARWASA Rp.20.000 - Rp50.000                                                                             Jl. Tidore No.2, RT.1/RW.5, Cideng, Kecamatan Gambir, Kota Jakarta Pusat, Daerah Khusus Ibukota Jakarta 10150, Indonesia                                      Soto ini menggunakan bahan utama jeroan yang dicampur dengan kuah santan dan susu, serta daging sapi 106.807545 -6.166637  3.844382        2\n",
            "           167        167           8           31                            Soto Betawi Bang Udin Rp.20.000 - Rp50.000                                                                                                             Jl. Lapangan Tembak Cibubur RT 10/2 No.4, Daerah Khusus Ibukota Jakarta 13720, Indonesia                                      Soto ini menggunakan bahan utama jeroan yang dicampur dengan kuah santan dan susu, serta daging sapi 106.877955 -6.350942 18.099496        4\n",
            "           168        168           8           31                       Soto Betawi Sambung Nikmat Rp.20.000 - Rp50.000                                                                   Jl. Ciputat Raya No.2, RT.8/RW.6, Pd. Pinang, Kec. Kby. Lama, Kota Jakarta Selatan, Daerah Khusus Ibukota Jakarta 12310, Indonesia                                      Soto ini menggunakan bahan utama jeroan yang dicampur dengan kuah santan dan susu, serta daging sapi 106.772941 -6.276953  9.827432        1\n",
            "           169        169           8           31                           Soto Betawi Bang Sawit Rp.20.000 - Rp50.000                                                          Jl. H. R. Rasuna Said, RT.2/RW.5, Karet Kuningan, Kecamatan Setiabudi, Kota Jakarta Selatan, Daerah Khusus Ibukota Jakarta 12940, Indonesia                                      Soto ini menggunakan bahan utama jeroan yang dicampur dengan kuah santan dan susu, serta daging sapi 106.834568 -6.218556  2.858937        0\n",
            "           170        170           8           31                            Soto Betawi Bang Nawi Rp.20.000 - Rp50.000                                                             Jl. Kh MAS Mansyur Gg. Riban No.1, Kb. Melati, Kecamatan Tanah Abang, Kota Jakarta Pusat, Daerah Khusus Ibukota Jakarta 10230, Indonesia                                      Soto ini menggunakan bahan utama jeroan yang dicampur dengan kuah santan dan susu, serta daging sapi 106.816020 -6.196520  0.393493        2\n",
            "            23         23           9           31                  Asinan Betawi H.Mansyur Kamboja Rp.15.000 - Rp40.000                                                              Jl. Taman Kamboja No.10 8, RT.8/RW.11, Rawamangun, Kec. Pulo Gadung, Kota Jakarta Timur, Daerah Khusus Ibukota Jakarta 13220, Indonesia Terbuat dari saus kacang dengan beragam sayuran mentah seperti tauge, sawi, dan kubis, disiram dengan kuah gula merah yang dicampur cabai 106.884973 -6.200867  7.551575        0\n",
            "            24         24           9           31           Asinan Betawi Asymuni/H. Udin/Hj. Tati Rp.15.000 - Rp40.000                                                                                                Jalan Pisangan Baru RT 002, RW05 No.31, Kec. Matraman, Daerah Khusus Ibukota Jakarta 13110, Indonesia Terbuat dari saus kacang dengan beragam sayuran mentah seperti tauge, sawi, dan kubis, disiram dengan kuah gula merah yang dicampur cabai 106.867136 -6.211622  5.726837        0\n",
            "            25         25           9           31                         Asinan Betawi Bang Sawal Rp.15.000 - Rp40.000                                                       Jl. Arjuna Utara No.12, RT.12/RW.1, Tj. Duren Sel., Kec. Grogol petamburan, Kota Jakarta Barat, Daerah Khusus Ibukota Jakarta 11470, Indonesia Terbuat dari saus kacang dengan beragam sayuran mentah seperti tauge, sawi, dan kubis, disiram dengan kuah gula merah yang dicampur cabai 106.792234 -6.182204  3.348200        2\n",
            "            26         26          10           31            Ketoprak Ciragil & Baso, Siomay Jhony Rp.15.000 - Rp30.000                                                                     Jl. Cikatomas 1 No.29, RT.5/RW.1, Rw. Bar., Kec. Kby. Baru, Kota Jakarta Selatan, Daerah Khusus Ibukota Jakarta 12180, Indonesia                                                                                          Terdiri dari bihun, kecambah, mentimun, dan tahu 106.810392 -6.237174  4.191337        1\n",
            "            27         27          11           31                        Gado Gado Taman Sari Raya Rp.15.000 - Rp30.000                                                                   Jl. Taman Sari No.65 12, RT.12/RW.1, Kota Tua, Kec. Taman Sari, Kota Jakarta Barat, Daerah Khusus Ibukota Jakarta 11150, Indonesia                            Salad tradisional Indonesia yang terdiri dari sayuran rebus, telur, tahu, tempe, dilengkapi dengan saus kacang 106.826891 -6.152821  5.366464        2\n",
            "            28         28          11           31                                Gado-Gado Kartika Rp.15.000 - Rp30.000                                                                     Jl. Sekolah Duta V, RT.3/RW.14, Pd. Pinang, Kec. Kby. Lama, Kota Jakarta Selatan, Daerah Khusus Ibukota Jakarta 12310, Indonesia                            Salad tradisional Indonesia yang terdiri dari sayuran rebus, telur, tahu, tempe, dilengkapi dengan saus kacang 106.781838 -6.286038 10.312502        1\n",
            "            29         29          11           31                    Gado-Gado Cemara (Sejak 1947) Rp.15.000 - Rp30.000                                            Jalan Tanah Abang 5 No.36 Gambir RT.13, 14, RT.14/RW.4, Petojo Sel., Kecamatan Gambir, Kota Jakarta Pusat, Daerah Khusus Ibukota Jakarta 10160, Indonesia                            Salad tradisional Indonesia yang terdiri dari sayuran rebus, telur, tahu, tempe, dilengkapi dengan saus kacang 106.813638 -6.179446  2.309883        2\n"
          ]
        }
      ]
    },
    {
      "cell_type": "code",
      "source": [
        "# Menyimpan bobot model ke file HDF5\n",
        "model.save(\"model.h5\")"
      ],
      "metadata": {
        "colab": {
          "base_uri": "https://localhost:8080/"
        },
        "id": "3h6y0N5-a2Jn",
        "outputId": "554c1a30-79fb-4570-fdce-f2115b79aea9"
      },
      "execution_count": null,
      "outputs": [
        {
          "output_type": "stream",
          "name": "stderr",
          "text": [
            "/usr/local/lib/python3.10/dist-packages/keras/src/engine/training.py:3103: UserWarning: You are saving your model as an HDF5 file via `model.save()`. This file format is considered legacy. We recommend using instead the native Keras format, e.g. `model.save('my_model.keras')`.\n",
            "  saving_api.save_model(\n"
          ]
        }
      ]
    },
    {
      "cell_type": "code",
      "source": [
        "# Menyimpan arsitektur model ke file JSON\n",
        "model_json = model.to_json()\n",
        "with open(\"model.json\", \"w\") as json_file:\n",
        "    json_file.write(model_json)"
      ],
      "metadata": {
        "id": "aZGB-ouhSh7h"
      },
      "execution_count": null,
      "outputs": []
    },
    {
      "cell_type": "code",
      "source": [
        "SRC = '/content/model.h5'"
      ],
      "metadata": {
        "id": "eXbFLsEKbs80"
      },
      "execution_count": null,
      "outputs": []
    },
    {
      "cell_type": "code",
      "source": [
        "new_model = tf.keras.models.load_model(SRC)\n",
        "\n",
        "# Check its architecture\n",
        "new_model.summary()"
      ],
      "metadata": {
        "colab": {
          "base_uri": "https://localhost:8080/"
        },
        "id": "X7f0HRsVa410",
        "outputId": "fd6ac34d-a072-4536-ea19-fdbf92141a73"
      },
      "execution_count": null,
      "outputs": [
        {
          "output_type": "stream",
          "name": "stdout",
          "text": [
            "Model: \"sequential_21\"\n",
            "_________________________________________________________________\n",
            " Layer (type)                Output Shape              Param #   \n",
            "=================================================================\n",
            " dense_65 (Dense)            (None, 128)               384       \n",
            "                                                                 \n",
            " dense_66 (Dense)            (None, 64)                8256      \n",
            "                                                                 \n",
            " dense_67 (Dense)            (None, 5)                 325       \n",
            "                                                                 \n",
            "=================================================================\n",
            "Total params: 8965 (35.02 KB)\n",
            "Trainable params: 8965 (35.02 KB)\n",
            "Non-trainable params: 0 (0.00 Byte)\n",
            "_________________________________________________________________\n"
          ]
        }
      ]
    }
  ],
  "metadata": {
    "colab": {
      "provenance": [],
      "gpuType": "T4"
    },
    "kernelspec": {
      "display_name": "Python 3",
      "name": "python3"
    },
    "language_info": {
      "name": "python"
    },
    "accelerator": "GPU"
  },
  "nbformat": 4,
  "nbformat_minor": 0
}